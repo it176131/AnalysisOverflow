{
 "cells": [
  {
   "cell_type": "markdown",
   "id": "bbd471fe",
   "metadata": {},
   "source": [
    "# Question"
   ]
  },
  {
   "cell_type": "markdown",
   "id": "eeba34c2",
   "metadata": {},
   "source": [
    "How much reputation does the average Stack Overflow **User** have when awarded its first [tag-badge](https://stackoverflow.com/help/badges#:~:text=3.1m%20awarded-,Tag%20Badges,-Bronze%20Badge)?"
   ]
  },
  {
   "cell_type": "markdown",
   "id": "6459a902",
   "metadata": {
    "heading_collapsed": true
   },
   "source": [
    "## Some considerations:"
   ]
  },
  {
   "cell_type": "markdown",
   "id": "e48352fc",
   "metadata": {
    "hidden": true
   },
   "source": [
    "- The first tag badge will always be [bronze](https://stackoverflow.com/help/badges?tab=tags&filter=bronze)\n",
    "    - > Earn at least 100 total score for at least 20 non-community wiki answers in the python tag.\n",
    "    - My first tag badge was `python`\n",
    "- The StackAPI [throttles](https://api.stackexchange.com/docs/throttle) the number of daily calls\n",
    "- The API does ***not*** return the date that a user was awarded a tag badge (that I know of). I will need to make calls to different endpoints and construct a historical log of events to determine when the badge was awarded."
   ]
  },
  {
   "cell_type": "markdown",
   "id": "712c90dc",
   "metadata": {
    "heading_collapsed": true
   },
   "source": [
    "## [End-points](https://api.stackexchange.com/docs) to explore:"
   ]
  },
  {
   "cell_type": "markdown",
   "id": "8a02c0cc",
   "metadata": {
    "hidden": true
   },
   "source": [
    "|Category|Sub Category|Endpoint|Description|\n",
    "|-|-|-|-|\n",
    "|Per-Site Methods|Answers|[`\"answers/{ids}\"`](https://api.stackexchange.com/docs/answers-by-ids)|Get answers identified by a set of ids.|\n",
    "|Per-Site Methods|Answers|[`\"answers/{ids}/questions\"`](https://api.stackexchange.com/docs/questions-by-answer-ids)|Gets all questions the answers identified by ids are on.|\n",
    "|Per-Site Methods|Badges|[`\"badges/{ids}/recipients\"`](https://api.stackexchange.com/docs/badge-recipients-by-ids)|Get the recent recipients of the given badges.|\n",
    "|Per-Site Methods|Posts|[`\"posts/{ids}\"`](https://api.stackexchange.com/docs/posts-by-ids)|Get all posts identified by a set of ids. Useful for when the type of post (question or answer) is not known.|\n",
    "|Per-Site Methods|Questions|[`\"questions/{ids}\"`](https://api.stackexchange.com/docs/questions-by-ids)|Get the questions identified by a set of ids.|\n",
    "|Per-Site Methods|Users|[`\"users/{ids}/answers\"`](https://api.stackexchange.com/docs/answers-on-users)|Get the answers posted by the users identified by a set of ids.|\n",
    "|Per-Site Methods|Users|[`\"users/{ids}/badges\"`](https://api.stackexchange.com/docs/badges-on-users)|Get the badges the users in {ids} have earned.|\n",
    "|Per-Site Methods|Users|[`\"users/{ids}/posts\"`](https://api.stackexchange.com/docs/posts-on-users)|Get all posts (questions and answers) owned by a set of users.|\n",
    "|Per-Site Methods|Users|[`\"users/{ids}/questions\"`](https://api.stackexchange.com/docs/questions-on-users)|Get the questions asked by the users identified by a set of ids.|\n",
    "|Per-Site Methods|Users|[`\"users/{ids}/reputation\"`](https://api.stackexchange.com/docs/reputation-on-users)|Get a subset of the reputation changes experienced by the users identified by a set of ids.|\n",
    "|Per-Site Methods|Users|[`\"users/{ids}/reputation-history\"`](https://api.stackexchange.com/docs/reputation-history)|Get a history of a user's reputation, excluding private events.|\n",
    "|~~Per-Site Methods~~|~~Users~~|~~[`\"users/{id}/reputation-history/full\"`](https://api.stackexchange.com/docs/full-reputation-history)~~|~~Get a full history of a user's reputation. `[auth required]`~~|\n",
    "|Per-Site Methods|Users|[`\"users/{ids}/timeline\"`](https://api.stackexchange.com/docs/timeline-on-users)|Get a subset of the actions of that have been taken by the users identified by a set of ids.|\n",
    "|~~Network Methods~~|~~Achievements~~|~~[`\"users/{id}/achievements\"`](https://api.stackexchange.com/docs/achievements-on-user)~~|~~Get a user's recent network-wide achievements. `[auth required]`~~|\n",
    "\n",
    "After some exploration, I have not figured out how to generate an `access_token`."
   ]
  },
  {
   "cell_type": "markdown",
   "id": "5a9fec25",
   "metadata": {
    "heading_collapsed": true
   },
   "source": [
    "# Setup"
   ]
  },
  {
   "cell_type": "code",
   "execution_count": 1,
   "id": "afea3fec",
   "metadata": {
    "ExecuteTime": {
     "end_time": "2023-01-16T17:11:19.345560Z",
     "start_time": "2023-01-16T17:11:19.303494Z"
    },
    "hidden": true
   },
   "outputs": [
    {
     "name": "stdout",
     "output_type": "stream",
     "text": [
      "C:\\Users\\A2644752\\Sandbox\\GitHub\\AnalysisOverflow\n"
     ]
    }
   ],
   "source": [
    "cd .."
   ]
  },
  {
   "cell_type": "code",
   "execution_count": 2,
   "id": "04762f3c",
   "metadata": {
    "ExecuteTime": {
     "end_time": "2023-01-16T17:11:21.251196Z",
     "start_time": "2023-01-16T17:11:19.465807Z"
    },
    "hidden": true
   },
   "outputs": [],
   "source": [
    "# 3rd party\n",
    "from matplotlib import pyplot as plt\n",
    "import pandas as pd\n",
    "\n",
    "# application specific\n",
    "from analysis_overflow.stackoverflow import StackOverflow"
   ]
  },
  {
   "cell_type": "code",
   "execution_count": 3,
   "id": "b1e3bbfd",
   "metadata": {
    "ExecuteTime": {
     "end_time": "2023-01-16T17:11:21.267215Z",
     "start_time": "2023-01-16T17:11:21.258210Z"
    },
    "hidden": true
   },
   "outputs": [],
   "source": [
    "my_user_id = 6509519\n",
    "\n",
    "bronze_python_badge_id = 267"
   ]
  },
  {
   "cell_type": "code",
   "execution_count": 5,
   "id": "5c2928ae",
   "metadata": {
    "ExecuteTime": {
     "end_time": "2023-01-16T17:11:21.798760Z",
     "start_time": "2023-01-16T17:11:21.307212Z"
    },
    "hidden": true,
    "scrolled": false
   },
   "outputs": [],
   "source": [
    "# connect to API\n",
    "so = StackOverflow(user_id=my_user_id, max_pages=100)"
   ]
  },
  {
   "cell_type": "markdown",
   "id": "239101c1",
   "metadata": {},
   "source": [
    "# Analysis"
   ]
  },
  {
   "attachments": {
    "image.png": {
     "image/png": "[encoded data removed]"
    }
   },
   "cell_type": "markdown",
   "id": "49570d49",
   "metadata": {
    "heading_collapsed": true
   },
   "source": [
    "### User = me 🙂\n",
    "\n",
    "![image.png](attachment:image.png)"
   ]
  },
  {
   "cell_type": "markdown",
   "id": "e6b42970",
   "metadata": {
    "heading_collapsed": true,
    "hidden": true
   },
   "source": [
    "##### Answers"
   ]
  },
  {
   "cell_type": "code",
   "execution_count": 13,
   "id": "51eeed84",
   "metadata": {
    "ExecuteTime": {
     "end_time": "2023-01-02T21:21:48.818180Z",
     "start_time": "2023-01-02T21:21:48.303510Z"
    },
    "hidden": true
   },
   "outputs": [],
   "source": [
    "my_answers = so.fetch_user_answers()"
   ]
  },
  {
   "cell_type": "code",
   "execution_count": 14,
   "id": "46b27981",
   "metadata": {
    "ExecuteTime": {
     "end_time": "2023-01-02T21:21:50.156028Z",
     "start_time": "2023-01-02T21:21:50.144895Z"
    },
    "hidden": true
   },
   "outputs": [],
   "source": [
    "my_answers = pd.DataFrame(my_answers.get(\"items\"))\n",
    "\n",
    "question_ids = my_answers.question_id.unique()"
   ]
  },
  {
   "cell_type": "markdown",
   "id": "03480a98",
   "metadata": {
    "heading_collapsed": true,
    "hidden": true
   },
   "source": [
    "##### Questions"
   ]
  },
  {
   "cell_type": "code",
   "execution_count": 15,
   "id": "96fff920",
   "metadata": {
    "ExecuteTime": {
     "end_time": "2023-01-02T21:21:56.860016Z",
     "start_time": "2023-01-02T21:21:56.368183Z"
    },
    "hidden": true
   },
   "outputs": [],
   "source": [
    "# TODO -- can this be threaded?\n",
    "question_items = []\n",
    "for i in range(0, len(question_ids), 100):\n",
    "    # api limits to 100 ids\n",
    "    question_items.extend(so.fetch_questions(question_ids=question_ids[i:i+100]).get(\"items\"))"
   ]
  },
  {
   "cell_type": "code",
   "execution_count": 16,
   "id": "7f3c19f0",
   "metadata": {
    "ExecuteTime": {
     "end_time": "2023-01-02T21:21:58.189820Z",
     "start_time": "2023-01-02T21:21:58.169242Z"
    },
    "hidden": true,
    "scrolled": true
   },
   "outputs": [],
   "source": [
    "questions = pd.DataFrame(question_items)\n",
    "\n",
    "questions = questions.set_index(\"question_id\", verify_integrity=True)\n",
    "\n",
    "questions = questions.explode(column=\"tags\")"
   ]
  },
  {
   "cell_type": "markdown",
   "id": "f7de76d7",
   "metadata": {
    "heading_collapsed": true,
    "hidden": true
   },
   "source": [
    "##### Python Questions"
   ]
  },
  {
   "cell_type": "code",
   "execution_count": 17,
   "id": "63b23847",
   "metadata": {
    "ExecuteTime": {
     "end_time": "2023-01-02T21:21:58.982708Z",
     "start_time": "2023-01-02T21:21:58.974275Z"
    },
    "hidden": true
   },
   "outputs": [],
   "source": [
    "python_questions = questions.loc[\n",
    "    questions.tags.eq(\"python\")\n",
    "].copy()"
   ]
  },
  {
   "cell_type": "markdown",
   "id": "b6aa902d",
   "metadata": {
    "heading_collapsed": true,
    "hidden": true
   },
   "source": [
    "##### Python Answers"
   ]
  },
  {
   "cell_type": "code",
   "execution_count": 18,
   "id": "62ca1a91",
   "metadata": {
    "ExecuteTime": {
     "end_time": "2023-01-02T21:22:00.527672Z",
     "start_time": "2023-01-02T21:22:00.519392Z"
    },
    "hidden": true
   },
   "outputs": [],
   "source": [
    "my_python_answers = my_answers.loc[\n",
    "    my_answers.question_id.isin(python_questions.index)\n",
    "].copy()"
   ]
  },
  {
   "cell_type": "markdown",
   "id": "c07b8280",
   "metadata": {
    "heading_collapsed": true,
    "hidden": true
   },
   "source": [
    "##### Reputation"
   ]
  },
  {
   "cell_type": "code",
   "execution_count": 19,
   "id": "9f6c7f0f",
   "metadata": {
    "ExecuteTime": {
     "end_time": "2023-01-02T21:22:03.389502Z",
     "start_time": "2023-01-02T21:22:02.748402Z"
    },
    "hidden": true
   },
   "outputs": [],
   "source": [
    "my_reputation_hist = so.fetch_user_reputation_history()"
   ]
  },
  {
   "cell_type": "code",
   "execution_count": 20,
   "id": "7cdcf7b7",
   "metadata": {
    "ExecuteTime": {
     "end_time": "2023-01-02T21:22:03.510574Z",
     "start_time": "2023-01-02T21:22:03.495325Z"
    },
    "hidden": true
   },
   "outputs": [],
   "source": [
    "rep_hist = pd.DataFrame(my_reputation_hist.get(\"items\"))\n",
    "\n",
    "rep_hist[\"creation_date\"] = pd.to_datetime(rep_hist.creation_date, unit=\"s\")\n",
    "\n",
    "rep_hist = rep_hist.sort_values(\"creation_date\")"
   ]
  },
  {
   "cell_type": "markdown",
   "id": "bec43928",
   "metadata": {
    "heading_collapsed": true,
    "hidden": true
   },
   "source": [
    "##### Python Answer Reputation"
   ]
  },
  {
   "cell_type": "code",
   "execution_count": 21,
   "id": "e8fd8519",
   "metadata": {
    "ExecuteTime": {
     "end_time": "2023-01-02T21:22:05.174414Z",
     "start_time": "2023-01-02T21:22:05.164721Z"
    },
    "hidden": true
   },
   "outputs": [],
   "source": [
    "python_answer_rep = rep_hist.loc[\n",
    "    rep_hist.post_id.isin(my_python_answers.answer_id)\n",
    "    & rep_hist.reputation_history_type.isin([\n",
    "        \"answer_accepted\",\n",
    "        \"answer_unaccepted\",\n",
    "    ]).eq(False)\n",
    "].copy()"
   ]
  },
  {
   "cell_type": "markdown",
   "id": "e8f5de69",
   "metadata": {
    "heading_collapsed": true,
    "hidden": true
   },
   "source": [
    "##### Tag Badge Awarded"
   ]
  },
  {
   "cell_type": "code",
   "execution_count": 22,
   "id": "663398c9",
   "metadata": {
    "ExecuteTime": {
     "end_time": "2023-01-02T21:22:06.098723Z",
     "start_time": "2023-01-02T21:22:06.091234Z"
    },
    "hidden": true
   },
   "outputs": [],
   "source": [
    "award_time = python_answer_rep.loc[\n",
    "    lambda row: row[\"reputation_change\"].cumsum().eq(1000),\n",
    "    \"creation_date\"\n",
    "].iloc[0]"
   ]
  },
  {
   "cell_type": "markdown",
   "id": "b3211fc8",
   "metadata": {
    "heading_collapsed": true,
    "hidden": true
   },
   "source": [
    "##### Total Reputation at Time of Award"
   ]
  },
  {
   "cell_type": "code",
   "execution_count": 23,
   "id": "8f124ed1",
   "metadata": {
    "ExecuteTime": {
     "end_time": "2023-01-02T21:22:07.411217Z",
     "start_time": "2023-01-02T21:22:07.403968Z"
    },
    "hidden": true
   },
   "outputs": [],
   "source": [
    "award_rep = rep_hist.loc[\n",
    "    rep_hist.creation_date.le(award_time),\n",
    "    \"reputation_change\"\n",
    "].sum()"
   ]
  },
  {
   "cell_type": "markdown",
   "id": "db0ddd11",
   "metadata": {
    "heading_collapsed": true,
    "hidden": true
   },
   "source": [
    "##### Reputation Over Time"
   ]
  },
  {
   "cell_type": "code",
   "execution_count": 24,
   "id": "31665f1a",
   "metadata": {
    "ExecuteTime": {
     "end_time": "2023-01-02T21:22:08.518124Z",
     "start_time": "2023-01-02T21:22:08.507124Z"
    },
    "hidden": true
   },
   "outputs": [],
   "source": [
    "rep_over_time = rep_hist[[\"creation_date\", \"reputation_change\"]].copy()\n",
    "\n",
    "rep_over_time[\"cumulative_reputation\"] = rep_over_time.reputation_change.cumsum()"
   ]
  },
  {
   "cell_type": "code",
   "execution_count": 25,
   "id": "e527e341",
   "metadata": {
    "ExecuteTime": {
     "end_time": "2023-01-02T21:22:10.190509Z",
     "start_time": "2023-01-02T21:22:09.847865Z"
    },
    "hidden": true
   },
   "outputs": [
    {
     "data": {
      "image/png": "[encoded data removed]",
      "text/plain": [
       "<Figure size 640x480 with 1 Axes>"
      ]
     },
     "metadata": {},
     "output_type": "display_data"
    }
   ],
   "source": [
    "fig, ax = plt.subplots()\n",
    "rep_over_time.plot(\"creation_date\", \"cumulative_reputation\", ax=ax)\n",
    "ax.axvline(award_time, color=\"brown\", label=\"award_time\")\n",
    "ax.axhline(award_rep, color=\"green\", label=\"award_rep\")\n",
    "ax.legend()\n",
    "plt.show()"
   ]
  },
  {
   "cell_type": "markdown",
   "id": "c8c87f5e",
   "metadata": {},
   "source": [
    "### Others"
   ]
  },
  {
   "cell_type": "markdown",
   "id": "e9193a43",
   "metadata": {
    "heading_collapsed": true
   },
   "source": [
    "##### Tag Badges"
   ]
  },
  {
   "cell_type": "code",
   "execution_count": 7,
   "id": "d44a79aa",
   "metadata": {
    "ExecuteTime": {
     "end_time": "2023-01-16T17:38:53.635931Z",
     "start_time": "2023-01-16T17:38:14.066489Z"
    },
    "hidden": true
   },
   "outputs": [],
   "source": [
    "results = so.fetch(\"badges\", sort=\"type\", min=\"tag_based\")"
   ]
  },
  {
   "cell_type": "code",
   "execution_count": 8,
   "id": "9b615e85",
   "metadata": {
    "ExecuteTime": {
     "end_time": "2023-01-16T17:39:00.830924Z",
     "start_time": "2023-01-16T17:39:00.777891Z"
    },
    "hidden": true
   },
   "outputs": [],
   "source": [
    "items = results.get(\"items\")\n",
    "\n",
    "tag_badges = pd.DataFrame(items)"
   ]
  },
  {
   "cell_type": "markdown",
   "id": "b4df0029",
   "metadata": {
    "heading_collapsed": true
   },
   "source": [
    "##### Bronze Tag Badges"
   ]
  },
  {
   "cell_type": "code",
   "execution_count": 10,
   "id": "cb1e3c59",
   "metadata": {
    "ExecuteTime": {
     "end_time": "2023-01-16T17:39:33.186223Z",
     "start_time": "2023-01-16T17:39:33.168221Z"
    },
    "hidden": true
   },
   "outputs": [],
   "source": [
    "bronze_tag_badges = tag_badges.loc[tag_badges[\"rank\"].eq(\"bronze\")].copy()\n",
    "\n",
    "bronze_tag_badge_ids = bronze_tag_badges.badge_id.to_numpy()"
   ]
  },
  {
   "cell_type": "markdown",
   "id": "16240e4c",
   "metadata": {},
   "source": [
    "##### Bronze Tag Badge Recipients"
   ]
  },
  {
   "cell_type": "code",
   "execution_count": 12,
   "id": "4c17a8c2",
   "metadata": {
    "ExecuteTime": {
     "end_time": "2023-01-16T17:51:19.942696Z",
     "start_time": "2023-01-16T17:40:55.635741Z"
    }
   },
   "outputs": [],
   "source": [
    "bronze_tag_badge_recipients = []\n",
    "for i in range(0, len(bronze_tag_badge_ids), 100):\n",
    "    results = so.fetch_badge_recipients(badge_ids=bronze_tag_badge_ids[i:i+100])\n",
    "    items = results.get(\"items\")\n",
    "    bronze_tag_badge_recipients.extend(items)"
   ]
  },
  {
   "cell_type": "code",
   "execution_count": 13,
   "id": "191b6575",
   "metadata": {
    "ExecuteTime": {
     "end_time": "2023-01-16T18:25:26.358367Z",
     "start_time": "2023-01-16T18:25:25.519050Z"
    }
   },
   "outputs": [],
   "source": [
    "bronze_tag_badge_recipients = pd.DataFrame(bronze_tag_badge_recipients)\n",
    "\n",
    "bronze_tag_badge_recipients_ids = pd.DataFrame(bronze_tag_badge_recipients[\"user\"].to_list())[\"user_id\"]\n",
    "\n",
    "bronze_tag_badge_recipients_ids = bronze_tag_badge_recipients_ids.unique()"
   ]
  },
  {
   "cell_type": "code",
   "execution_count": 16,
   "id": "8c570ad3",
   "metadata": {
    "ExecuteTime": {
     "end_time": "2023-01-16T18:25:38.552171Z",
     "start_time": "2023-01-16T18:25:38.535180Z"
    }
   },
   "outputs": [
    {
     "data": {
      "text/plain": [
       "56340"
      ]
     },
     "execution_count": 16,
     "metadata": {},
     "output_type": "execute_result"
    }
   ],
   "source": [
    "len(bronze_tag_badge_recipients_ids)"
   ]
  },
  {
   "cell_type": "markdown",
   "id": "57f02053",
   "metadata": {
    "heading_collapsed": true
   },
   "source": [
    "##### User Badges"
   ]
  },
  {
   "cell_type": "code",
   "execution_count": 136,
   "id": "b3a6dc3f",
   "metadata": {
    "ExecuteTime": {
     "end_time": "2023-01-02T22:36:30.539553Z",
     "start_time": "2023-01-02T22:23:11.185225Z"
    },
    "hidden": true
   },
   "outputs": [],
   "source": [
    "# user_badges = []\n",
    "# for i in range(0, len(bronze_tag_badge_recipients_ids), 100):\n",
    "#     res = so.fetch(\"users/{ids}/badges\", ids=bronze_tag_badge_recipients_ids[i:i+100], sort=\"type\", min=\"tag_based\")\n",
    "#     items = res.get(\"items\")\n",
    "#     user_badges.extend(items)"
   ]
  },
  {
   "cell_type": "code",
   "execution_count": 139,
   "id": "0a3b3232",
   "metadata": {
    "ExecuteTime": {
     "end_time": "2023-01-02T22:38:47.389967Z",
     "start_time": "2023-01-02T22:38:46.903011Z"
    },
    "hidden": true
   },
   "outputs": [],
   "source": [
    "user_badges = pd.DataFrame(user_badges)\n",
    "\n",
    "user_badge_user_ids = pd.DataFrame(user_badges[\"user\"].to_list())[\"user_id\"]\n",
    "\n",
    "user_badge_user_ids = user_badge_user_ids.unique()"
   ]
  },
  {
   "cell_type": "markdown",
   "id": "9a6d4d64",
   "metadata": {
    "heading_collapsed": true
   },
   "source": [
    "##### User Bronze Badges"
   ]
  },
  {
   "cell_type": "markdown",
   "id": "3de218e4",
   "metadata": {
    "hidden": true
   },
   "source": [
    "How to determine a user's *first* badge?"
   ]
  },
  {
   "cell_type": "code",
   "execution_count": 217,
   "id": "3288edfa",
   "metadata": {
    "ExecuteTime": {
     "end_time": "2023-01-02T23:07:04.119211Z",
     "start_time": "2023-01-02T23:07:04.005718Z"
    },
    "hidden": true
   },
   "outputs": [],
   "source": [
    "user_bronze_badges = user_badges.loc[user_badges[\"rank\"].eq(\"bronze\")].copy()"
   ]
  },
  {
   "cell_type": "code",
   "execution_count": 219,
   "id": "b9dde86e",
   "metadata": {
    "ExecuteTime": {
     "end_time": "2023-01-02T23:08:25.939720Z",
     "start_time": "2023-01-02T23:08:25.550734Z"
    },
    "hidden": true
   },
   "outputs": [
    {
     "data": {
      "text/html": [
       "<div>\n",
       "<style scoped>\n",
       "    .dataframe tbody tr th:only-of-type {\n",
       "        vertical-align: middle;\n",
       "    }\n",
       "\n",
       "    .dataframe tbody tr th {\n",
       "        vertical-align: top;\n",
       "    }\n",
       "\n",
       "    .dataframe thead th {\n",
       "        text-align: right;\n",
       "    }\n",
       "</style>\n",
       "<table border=\"1\" class=\"dataframe\">\n",
       "  <thead>\n",
       "    <tr style=\"text-align: right;\">\n",
       "      <th></th>\n",
       "      <th>reputation</th>\n",
       "      <th>user_id</th>\n",
       "      <th>user_type</th>\n",
       "      <th>profile_image</th>\n",
       "      <th>display_name</th>\n",
       "      <th>link</th>\n",
       "      <th>accept_rate</th>\n",
       "    </tr>\n",
       "  </thead>\n",
       "  <tbody>\n",
       "    <tr>\n",
       "      <th>0</th>\n",
       "      <td>77640</td>\n",
       "      <td>214790</td>\n",
       "      <td>registered</td>\n",
       "      <td>https://www.gravatar.com/avatar/f878c823034273...</td>\n",
       "      <td>matt</td>\n",
       "      <td>https://stackoverflow.com/users/214790/matt</td>\n",
       "      <td>NaN</td>\n",
       "    </tr>\n",
       "    <tr>\n",
       "      <th>1</th>\n",
       "      <td>113571</td>\n",
       "      <td>1899640</td>\n",
       "      <td>registered</td>\n",
       "      <td>https://www.gravatar.com/avatar/47374ccb28e4b0...</td>\n",
       "      <td>that other guy</td>\n",
       "      <td>https://stackoverflow.com/users/1899640/that-o...</td>\n",
       "      <td>NaN</td>\n",
       "    </tr>\n",
       "    <tr>\n",
       "      <th>2</th>\n",
       "      <td>30271</td>\n",
       "      <td>1026</td>\n",
       "      <td>registered</td>\n",
       "      <td>https://www.gravatar.com/avatar/ea331e778d54ef...</td>\n",
       "      <td>Nickolay</td>\n",
       "      <td>https://stackoverflow.com/users/1026/nickolay</td>\n",
       "      <td>60.0</td>\n",
       "    </tr>\n",
       "    <tr>\n",
       "      <th>3</th>\n",
       "      <td>327491</td>\n",
       "      <td>18771</td>\n",
       "      <td>registered</td>\n",
       "      <td>https://www.gravatar.com/avatar/0ada184c98bf90...</td>\n",
       "      <td>Tomalak</td>\n",
       "      <td>https://stackoverflow.com/users/18771/tomalak</td>\n",
       "      <td>87.0</td>\n",
       "    </tr>\n",
       "    <tr>\n",
       "      <th>4</th>\n",
       "      <td>194809</td>\n",
       "      <td>248823</td>\n",
       "      <td>registered</td>\n",
       "      <td>https://www.gravatar.com/avatar/6605deca5924e8...</td>\n",
       "      <td>Marcin</td>\n",
       "      <td>https://stackoverflow.com/users/248823/marcin</td>\n",
       "      <td>100.0</td>\n",
       "    </tr>\n",
       "    <tr>\n",
       "      <th>...</th>\n",
       "      <td>...</td>\n",
       "      <td>...</td>\n",
       "      <td>...</td>\n",
       "      <td>...</td>\n",
       "      <td>...</td>\n",
       "      <td>...</td>\n",
       "      <td>...</td>\n",
       "    </tr>\n",
       "    <tr>\n",
       "      <th>172867</th>\n",
       "      <td>3892</td>\n",
       "      <td>4718283</td>\n",
       "      <td>registered</td>\n",
       "      <td>https://i.stack.imgur.com/aQJJn.jpg?s=256&amp;g=1</td>\n",
       "      <td>Husayn Hakeem</td>\n",
       "      <td>https://stackoverflow.com/users/4718283/husayn...</td>\n",
       "      <td>74.0</td>\n",
       "    </tr>\n",
       "    <tr>\n",
       "      <th>172868</th>\n",
       "      <td>3190</td>\n",
       "      <td>2418642</td>\n",
       "      <td>registered</td>\n",
       "      <td>https://www.gravatar.com/avatar/661bf0e57b634f...</td>\n",
       "      <td>sgjesse</td>\n",
       "      <td>https://stackoverflow.com/users/2418642/sgjesse</td>\n",
       "      <td>NaN</td>\n",
       "    </tr>\n",
       "    <tr>\n",
       "      <th>172869</th>\n",
       "      <td>3172</td>\n",
       "      <td>1452382</td>\n",
       "      <td>registered</td>\n",
       "      <td>https://www.gravatar.com/avatar/8c3938cece44ef...</td>\n",
       "      <td>dlam</td>\n",
       "      <td>https://stackoverflow.com/users/1452382/dlam</td>\n",
       "      <td>NaN</td>\n",
       "    </tr>\n",
       "    <tr>\n",
       "      <th>172870</th>\n",
       "      <td>2972</td>\n",
       "      <td>704837</td>\n",
       "      <td>registered</td>\n",
       "      <td>https://www.gravatar.com/avatar/2446a7dad1b7cb...</td>\n",
       "      <td>koush</td>\n",
       "      <td>https://stackoverflow.com/users/704837/koush</td>\n",
       "      <td>NaN</td>\n",
       "    </tr>\n",
       "    <tr>\n",
       "      <th>172871</th>\n",
       "      <td>4435</td>\n",
       "      <td>2558442</td>\n",
       "      <td>registered</td>\n",
       "      <td>https://www.gravatar.com/avatar/532edc773ae31c...</td>\n",
       "      <td>hoford</td>\n",
       "      <td>https://stackoverflow.com/users/2558442/hoford</td>\n",
       "      <td>NaN</td>\n",
       "    </tr>\n",
       "  </tbody>\n",
       "</table>\n",
       "<p>172872 rows × 7 columns</p>\n",
       "</div>"
      ],
      "text/plain": [
       "        reputation  user_id   user_type  \\\n",
       "0            77640   214790  registered   \n",
       "1           113571  1899640  registered   \n",
       "2            30271     1026  registered   \n",
       "3           327491    18771  registered   \n",
       "4           194809   248823  registered   \n",
       "...            ...      ...         ...   \n",
       "172867        3892  4718283  registered   \n",
       "172868        3190  2418642  registered   \n",
       "172869        3172  1452382  registered   \n",
       "172870        2972   704837  registered   \n",
       "172871        4435  2558442  registered   \n",
       "\n",
       "                                            profile_image    display_name  \\\n",
       "0       https://www.gravatar.com/avatar/f878c823034273...            matt   \n",
       "1       https://www.gravatar.com/avatar/47374ccb28e4b0...  that other guy   \n",
       "2       https://www.gravatar.com/avatar/ea331e778d54ef...        Nickolay   \n",
       "3       https://www.gravatar.com/avatar/0ada184c98bf90...         Tomalak   \n",
       "4       https://www.gravatar.com/avatar/6605deca5924e8...          Marcin   \n",
       "...                                                   ...             ...   \n",
       "172867      https://i.stack.imgur.com/aQJJn.jpg?s=256&g=1   Husayn Hakeem   \n",
       "172868  https://www.gravatar.com/avatar/661bf0e57b634f...         sgjesse   \n",
       "172869  https://www.gravatar.com/avatar/8c3938cece44ef...            dlam   \n",
       "172870  https://www.gravatar.com/avatar/2446a7dad1b7cb...           koush   \n",
       "172871  https://www.gravatar.com/avatar/532edc773ae31c...          hoford   \n",
       "\n",
       "                                                     link  accept_rate  \n",
       "0             https://stackoverflow.com/users/214790/matt          NaN  \n",
       "1       https://stackoverflow.com/users/1899640/that-o...          NaN  \n",
       "2           https://stackoverflow.com/users/1026/nickolay         60.0  \n",
       "3           https://stackoverflow.com/users/18771/tomalak         87.0  \n",
       "4           https://stackoverflow.com/users/248823/marcin        100.0  \n",
       "...                                                   ...          ...  \n",
       "172867  https://stackoverflow.com/users/4718283/husayn...         74.0  \n",
       "172868    https://stackoverflow.com/users/2418642/sgjesse          NaN  \n",
       "172869       https://stackoverflow.com/users/1452382/dlam          NaN  \n",
       "172870       https://stackoverflow.com/users/704837/koush          NaN  \n",
       "172871     https://stackoverflow.com/users/2558442/hoford          NaN  \n",
       "\n",
       "[172872 rows x 7 columns]"
      ]
     },
     "execution_count": 219,
     "metadata": {},
     "output_type": "execute_result"
    }
   ],
   "source": [
    "pd.DataFrame(user_bronze_badges[\"user\"].to_list())"
   ]
  },
  {
   "cell_type": "markdown",
   "id": "0a904ecf",
   "metadata": {
    "heading_collapsed": true
   },
   "source": [
    "##### Users"
   ]
  },
  {
   "cell_type": "code",
   "execution_count": null,
   "id": "43c80191",
   "metadata": {
    "hidden": true
   },
   "outputs": [],
   "source": [
    "# user_items = []\n",
    "# for i in range(0, len(user_badge_user_ids), 100):\n",
    "#     res = so.fetch(\"users/{ids}\", ids=user_badge_user_ids[i:i+100])\n",
    "#     items = res.get(\"items\")\n",
    "#     user_items.extend(items)"
   ]
  },
  {
   "cell_type": "code",
   "execution_count": 197,
   "id": "78d957bf",
   "metadata": {
    "ExecuteTime": {
     "end_time": "2023-01-02T22:58:23.539573Z",
     "start_time": "2023-01-02T22:58:23.138487Z"
    },
    "hidden": true
   },
   "outputs": [],
   "source": [
    "users = pd.DataFrame(user_items)\n",
    "\n",
    "users = users.set_index(\"user_id\")"
   ]
  },
  {
   "cell_type": "code",
   "execution_count": 209,
   "id": "0433550d",
   "metadata": {
    "ExecuteTime": {
     "end_time": "2023-01-02T23:00:24.789967Z",
     "start_time": "2023-01-02T23:00:15.842137Z"
    },
    "hidden": true
   },
   "outputs": [
    {
     "ename": "KeyboardInterrupt",
     "evalue": "",
     "output_type": "error",
     "traceback": [
      "\u001b[1;31m---------------------------------------------------------------------------\u001b[0m",
      "\u001b[1;31mKeyboardInterrupt\u001b[0m                         Traceback (most recent call last)",
      "Cell \u001b[1;32mIn[209], line 1\u001b[0m\n\u001b[1;32m----> 1\u001b[0m \u001b[43musers\u001b[49m\u001b[43m[\u001b[49m\u001b[38;5;124;43m\"\u001b[39;49m\u001b[38;5;124;43mbadge_counts\u001b[39;49m\u001b[38;5;124;43m\"\u001b[39;49m\u001b[43m]\u001b[49m\u001b[38;5;241;43m.\u001b[39;49m\u001b[43mapply\u001b[49m\u001b[43m(\u001b[49m\u001b[43mpd\u001b[49m\u001b[38;5;241;43m.\u001b[39;49m\u001b[43mSeries\u001b[49m\u001b[43m)\u001b[49m\n",
      "File \u001b[1;32m~\\Sandbox\\envs\\analysis-overflow\\Lib\\site-packages\\pandas\\core\\series.py:4771\u001b[0m, in \u001b[0;36mSeries.apply\u001b[1;34m(self, func, convert_dtype, args, **kwargs)\u001b[0m\n\u001b[0;32m   4661\u001b[0m \u001b[38;5;28;01mdef\u001b[39;00m \u001b[38;5;21mapply\u001b[39m(\n\u001b[0;32m   4662\u001b[0m     \u001b[38;5;28mself\u001b[39m,\n\u001b[0;32m   4663\u001b[0m     func: AggFuncType,\n\u001b[1;32m   (...)\u001b[0m\n\u001b[0;32m   4666\u001b[0m     \u001b[38;5;241m*\u001b[39m\u001b[38;5;241m*\u001b[39mkwargs,\n\u001b[0;32m   4667\u001b[0m ) \u001b[38;5;241m-\u001b[39m\u001b[38;5;241m>\u001b[39m DataFrame \u001b[38;5;241m|\u001b[39m Series:\n\u001b[0;32m   4668\u001b[0m     \u001b[38;5;124;03m\"\"\"\u001b[39;00m\n\u001b[0;32m   4669\u001b[0m \u001b[38;5;124;03m    Invoke function on values of Series.\u001b[39;00m\n\u001b[0;32m   4670\u001b[0m \n\u001b[1;32m   (...)\u001b[0m\n\u001b[0;32m   4769\u001b[0m \u001b[38;5;124;03m    dtype: float64\u001b[39;00m\n\u001b[0;32m   4770\u001b[0m \u001b[38;5;124;03m    \"\"\"\u001b[39;00m\n\u001b[1;32m-> 4771\u001b[0m     \u001b[38;5;28;01mreturn\u001b[39;00m \u001b[43mSeriesApply\u001b[49m\u001b[43m(\u001b[49m\u001b[38;5;28;43mself\u001b[39;49m\u001b[43m,\u001b[49m\u001b[43m \u001b[49m\u001b[43mfunc\u001b[49m\u001b[43m,\u001b[49m\u001b[43m \u001b[49m\u001b[43mconvert_dtype\u001b[49m\u001b[43m,\u001b[49m\u001b[43m \u001b[49m\u001b[43margs\u001b[49m\u001b[43m,\u001b[49m\u001b[43m \u001b[49m\u001b[43mkwargs\u001b[49m\u001b[43m)\u001b[49m\u001b[38;5;241;43m.\u001b[39;49m\u001b[43mapply\u001b[49m\u001b[43m(\u001b[49m\u001b[43m)\u001b[49m\n",
      "File \u001b[1;32m~\\Sandbox\\envs\\analysis-overflow\\Lib\\site-packages\\pandas\\core\\apply.py:1105\u001b[0m, in \u001b[0;36mSeriesApply.apply\u001b[1;34m(self)\u001b[0m\n\u001b[0;32m   1102\u001b[0m     \u001b[38;5;28;01mreturn\u001b[39;00m \u001b[38;5;28mself\u001b[39m\u001b[38;5;241m.\u001b[39mapply_str()\n\u001b[0;32m   1104\u001b[0m \u001b[38;5;66;03m# self.f is Callable\u001b[39;00m\n\u001b[1;32m-> 1105\u001b[0m \u001b[38;5;28;01mreturn\u001b[39;00m \u001b[38;5;28;43mself\u001b[39;49m\u001b[38;5;241;43m.\u001b[39;49m\u001b[43mapply_standard\u001b[49m\u001b[43m(\u001b[49m\u001b[43m)\u001b[49m\n",
      "File \u001b[1;32m~\\Sandbox\\envs\\analysis-overflow\\Lib\\site-packages\\pandas\\core\\apply.py:1156\u001b[0m, in \u001b[0;36mSeriesApply.apply_standard\u001b[1;34m(self)\u001b[0m\n\u001b[0;32m   1154\u001b[0m     \u001b[38;5;28;01melse\u001b[39;00m:\n\u001b[0;32m   1155\u001b[0m         values \u001b[38;5;241m=\u001b[39m obj\u001b[38;5;241m.\u001b[39mastype(\u001b[38;5;28mobject\u001b[39m)\u001b[38;5;241m.\u001b[39m_values\n\u001b[1;32m-> 1156\u001b[0m         mapped \u001b[38;5;241m=\u001b[39m \u001b[43mlib\u001b[49m\u001b[38;5;241;43m.\u001b[39;49m\u001b[43mmap_infer\u001b[49m\u001b[43m(\u001b[49m\n\u001b[0;32m   1157\u001b[0m \u001b[43m            \u001b[49m\u001b[43mvalues\u001b[49m\u001b[43m,\u001b[49m\n\u001b[0;32m   1158\u001b[0m \u001b[43m            \u001b[49m\u001b[43mf\u001b[49m\u001b[43m,\u001b[49m\n\u001b[0;32m   1159\u001b[0m \u001b[43m            \u001b[49m\u001b[43mconvert\u001b[49m\u001b[38;5;241;43m=\u001b[39;49m\u001b[38;5;28;43mself\u001b[39;49m\u001b[38;5;241;43m.\u001b[39;49m\u001b[43mconvert_dtype\u001b[49m\u001b[43m,\u001b[49m\n\u001b[0;32m   1160\u001b[0m \u001b[43m        \u001b[49m\u001b[43m)\u001b[49m\n\u001b[0;32m   1162\u001b[0m \u001b[38;5;28;01mif\u001b[39;00m \u001b[38;5;28mlen\u001b[39m(mapped) \u001b[38;5;129;01mand\u001b[39;00m \u001b[38;5;28misinstance\u001b[39m(mapped[\u001b[38;5;241m0\u001b[39m], ABCSeries):\n\u001b[0;32m   1163\u001b[0m     \u001b[38;5;66;03m# GH#43986 Need to do list(mapped) in order to get treated as nested\u001b[39;00m\n\u001b[0;32m   1164\u001b[0m     \u001b[38;5;66;03m#  See also GH#25959 regarding EA support\u001b[39;00m\n\u001b[0;32m   1165\u001b[0m     \u001b[38;5;28;01mreturn\u001b[39;00m obj\u001b[38;5;241m.\u001b[39m_constructor_expanddim(\u001b[38;5;28mlist\u001b[39m(mapped), index\u001b[38;5;241m=\u001b[39mobj\u001b[38;5;241m.\u001b[39mindex)\n",
      "File \u001b[1;32m~\\Sandbox\\envs\\analysis-overflow\\Lib\\site-packages\\pandas\\_libs\\lib.pyx:2918\u001b[0m, in \u001b[0;36mpandas._libs.lib.map_infer\u001b[1;34m()\u001b[0m\n",
      "File \u001b[1;32m~\\Sandbox\\envs\\analysis-overflow\\Lib\\site-packages\\pandas\\core\\series.py:436\u001b[0m, in \u001b[0;36mSeries.__init__\u001b[1;34m(self, data, index, dtype, name, copy, fastpath)\u001b[0m\n\u001b[0;32m    434\u001b[0m     data \u001b[38;5;241m=\u001b[39m data\u001b[38;5;241m.\u001b[39m_mgr\n\u001b[0;32m    435\u001b[0m \u001b[38;5;28;01melif\u001b[39;00m is_dict_like(data):\n\u001b[1;32m--> 436\u001b[0m     data, index \u001b[38;5;241m=\u001b[39m \u001b[38;5;28;43mself\u001b[39;49m\u001b[38;5;241;43m.\u001b[39;49m\u001b[43m_init_dict\u001b[49m\u001b[43m(\u001b[49m\u001b[43mdata\u001b[49m\u001b[43m,\u001b[49m\u001b[43m \u001b[49m\u001b[43mindex\u001b[49m\u001b[43m,\u001b[49m\u001b[43m \u001b[49m\u001b[43mdtype\u001b[49m\u001b[43m)\u001b[49m\n\u001b[0;32m    437\u001b[0m     dtype \u001b[38;5;241m=\u001b[39m \u001b[38;5;28;01mNone\u001b[39;00m\n\u001b[0;32m    438\u001b[0m     copy \u001b[38;5;241m=\u001b[39m \u001b[38;5;28;01mFalse\u001b[39;00m\n",
      "File \u001b[1;32m~\\Sandbox\\envs\\analysis-overflow\\Lib\\site-packages\\pandas\\core\\series.py:529\u001b[0m, in \u001b[0;36mSeries._init_dict\u001b[1;34m(self, data, index, dtype)\u001b[0m\n\u001b[0;32m    524\u001b[0m     keys, values \u001b[38;5;241m=\u001b[39m (), []\n\u001b[0;32m    526\u001b[0m \u001b[38;5;66;03m# Input is now list-like, so rely on \"standard\" construction:\u001b[39;00m\n\u001b[0;32m    527\u001b[0m \n\u001b[0;32m    528\u001b[0m \u001b[38;5;66;03m# TODO: passing np.float64 to not break anything yet. See GH-17261\u001b[39;00m\n\u001b[1;32m--> 529\u001b[0m s \u001b[38;5;241m=\u001b[39m \u001b[43mcreate_series_with_explicit_dtype\u001b[49m\u001b[43m(\u001b[49m\n\u001b[0;32m    530\u001b[0m \u001b[43m    \u001b[49m\u001b[38;5;66;43;03m# error: Argument \"index\" to \"create_series_with_explicit_dtype\" has\u001b[39;49;00m\n\u001b[0;32m    531\u001b[0m \u001b[43m    \u001b[49m\u001b[38;5;66;43;03m# incompatible type \"Tuple[Any, ...]\"; expected \"Union[ExtensionArray,\u001b[39;49;00m\n\u001b[0;32m    532\u001b[0m \u001b[43m    \u001b[49m\u001b[38;5;66;43;03m# ndarray, Index, None]\"\u001b[39;49;00m\n\u001b[0;32m    533\u001b[0m \u001b[43m    \u001b[49m\u001b[43mvalues\u001b[49m\u001b[43m,\u001b[49m\n\u001b[0;32m    534\u001b[0m \u001b[43m    \u001b[49m\u001b[43mindex\u001b[49m\u001b[38;5;241;43m=\u001b[39;49m\u001b[43mkeys\u001b[49m\u001b[43m,\u001b[49m\u001b[43m  \u001b[49m\u001b[38;5;66;43;03m# type: ignore[arg-type]\u001b[39;49;00m\n\u001b[0;32m    535\u001b[0m \u001b[43m    \u001b[49m\u001b[43mdtype\u001b[49m\u001b[38;5;241;43m=\u001b[39;49m\u001b[43mdtype\u001b[49m\u001b[43m,\u001b[49m\n\u001b[0;32m    536\u001b[0m \u001b[43m    \u001b[49m\u001b[43mdtype_if_empty\u001b[49m\u001b[38;5;241;43m=\u001b[39;49m\u001b[43mnp\u001b[49m\u001b[38;5;241;43m.\u001b[39;49m\u001b[43mfloat64\u001b[49m\u001b[43m,\u001b[49m\n\u001b[0;32m    537\u001b[0m \u001b[43m\u001b[49m\u001b[43m)\u001b[49m\n\u001b[0;32m    539\u001b[0m \u001b[38;5;66;03m# Now we just make sure the order is respected, if any\u001b[39;00m\n\u001b[0;32m    540\u001b[0m \u001b[38;5;28;01mif\u001b[39;00m data \u001b[38;5;129;01mand\u001b[39;00m index \u001b[38;5;129;01mis\u001b[39;00m \u001b[38;5;129;01mnot\u001b[39;00m \u001b[38;5;28;01mNone\u001b[39;00m:\n",
      "File \u001b[1;32m~\\Sandbox\\envs\\analysis-overflow\\Lib\\site-packages\\pandas\\core\\construction.py:915\u001b[0m, in \u001b[0;36mcreate_series_with_explicit_dtype\u001b[1;34m(data, index, dtype, name, copy, fastpath, dtype_if_empty)\u001b[0m\n\u001b[0;32m    913\u001b[0m \u001b[38;5;28;01mif\u001b[39;00m is_empty_data(data) \u001b[38;5;129;01mand\u001b[39;00m dtype \u001b[38;5;129;01mis\u001b[39;00m \u001b[38;5;28;01mNone\u001b[39;00m:\n\u001b[0;32m    914\u001b[0m     dtype \u001b[38;5;241m=\u001b[39m dtype_if_empty\n\u001b[1;32m--> 915\u001b[0m \u001b[38;5;28;01mreturn\u001b[39;00m \u001b[43mSeries\u001b[49m\u001b[43m(\u001b[49m\n\u001b[0;32m    916\u001b[0m \u001b[43m    \u001b[49m\u001b[43mdata\u001b[49m\u001b[38;5;241;43m=\u001b[39;49m\u001b[43mdata\u001b[49m\u001b[43m,\u001b[49m\u001b[43m \u001b[49m\u001b[43mindex\u001b[49m\u001b[38;5;241;43m=\u001b[39;49m\u001b[43mindex\u001b[49m\u001b[43m,\u001b[49m\u001b[43m \u001b[49m\u001b[43mdtype\u001b[49m\u001b[38;5;241;43m=\u001b[39;49m\u001b[43mdtype\u001b[49m\u001b[43m,\u001b[49m\u001b[43m \u001b[49m\u001b[43mname\u001b[49m\u001b[38;5;241;43m=\u001b[39;49m\u001b[43mname\u001b[49m\u001b[43m,\u001b[49m\u001b[43m \u001b[49m\u001b[43mcopy\u001b[49m\u001b[38;5;241;43m=\u001b[39;49m\u001b[43mcopy\u001b[49m\u001b[43m,\u001b[49m\u001b[43m \u001b[49m\u001b[43mfastpath\u001b[49m\u001b[38;5;241;43m=\u001b[39;49m\u001b[43mfastpath\u001b[49m\n\u001b[0;32m    917\u001b[0m \u001b[43m\u001b[49m\u001b[43m)\u001b[49m\n",
      "File \u001b[1;32m~\\Sandbox\\envs\\analysis-overflow\\Lib\\site-packages\\pandas\\core\\series.py:399\u001b[0m, in \u001b[0;36mSeries.__init__\u001b[1;34m(self, data, index, dtype, name, copy, fastpath)\u001b[0m\n\u001b[0;32m    395\u001b[0m     \u001b[38;5;66;03m# uncomment the line below when removing the FutureWarning\u001b[39;00m\n\u001b[0;32m    396\u001b[0m     \u001b[38;5;66;03m# dtype = np.dtype(object)\u001b[39;00m\n\u001b[0;32m    398\u001b[0m \u001b[38;5;28;01mif\u001b[39;00m index \u001b[38;5;129;01mis\u001b[39;00m \u001b[38;5;129;01mnot\u001b[39;00m \u001b[38;5;28;01mNone\u001b[39;00m:\n\u001b[1;32m--> 399\u001b[0m     index \u001b[38;5;241m=\u001b[39m \u001b[43mensure_index\u001b[49m\u001b[43m(\u001b[49m\u001b[43mindex\u001b[49m\u001b[43m)\u001b[49m\n\u001b[0;32m    401\u001b[0m \u001b[38;5;28;01mif\u001b[39;00m data \u001b[38;5;129;01mis\u001b[39;00m \u001b[38;5;28;01mNone\u001b[39;00m:\n\u001b[0;32m    402\u001b[0m     data \u001b[38;5;241m=\u001b[39m {}\n",
      "File \u001b[1;32m~\\Sandbox\\envs\\analysis-overflow\\Lib\\site-packages\\pandas\\core\\indexes\\base.py:7376\u001b[0m, in \u001b[0;36mensure_index\u001b[1;34m(index_like, copy)\u001b[0m\n\u001b[0;32m   7374\u001b[0m         \u001b[38;5;28;01mreturn\u001b[39;00m Index\u001b[38;5;241m.\u001b[39m_with_infer(index_like, copy\u001b[38;5;241m=\u001b[39mcopy, tupleize_cols\u001b[38;5;241m=\u001b[39m\u001b[38;5;28;01mFalse\u001b[39;00m)\n\u001b[0;32m   7375\u001b[0m \u001b[38;5;28;01melse\u001b[39;00m:\n\u001b[1;32m-> 7376\u001b[0m     \u001b[38;5;28;01mreturn\u001b[39;00m \u001b[43mIndex\u001b[49m\u001b[38;5;241;43m.\u001b[39;49m\u001b[43m_with_infer\u001b[49m\u001b[43m(\u001b[49m\u001b[43mindex_like\u001b[49m\u001b[43m,\u001b[49m\u001b[43m \u001b[49m\u001b[43mcopy\u001b[49m\u001b[38;5;241;43m=\u001b[39;49m\u001b[43mcopy\u001b[49m\u001b[43m)\u001b[49m\n",
      "File \u001b[1;32m~\\Sandbox\\envs\\analysis-overflow\\Lib\\site-packages\\pandas\\core\\indexes\\base.py:717\u001b[0m, in \u001b[0;36mIndex._with_infer\u001b[1;34m(cls, *args, **kwargs)\u001b[0m\n\u001b[0;32m    715\u001b[0m \u001b[38;5;28;01mwith\u001b[39;00m warnings\u001b[38;5;241m.\u001b[39mcatch_warnings():\n\u001b[0;32m    716\u001b[0m     warnings\u001b[38;5;241m.\u001b[39mfilterwarnings(\u001b[38;5;124m\"\u001b[39m\u001b[38;5;124mignore\u001b[39m\u001b[38;5;124m\"\u001b[39m, \u001b[38;5;124m\"\u001b[39m\u001b[38;5;124m.*the Index constructor\u001b[39m\u001b[38;5;124m\"\u001b[39m, \u001b[38;5;167;01mFutureWarning\u001b[39;00m)\n\u001b[1;32m--> 717\u001b[0m     result \u001b[38;5;241m=\u001b[39m \u001b[38;5;28;43mcls\u001b[39;49m\u001b[43m(\u001b[49m\u001b[38;5;241;43m*\u001b[39;49m\u001b[43margs\u001b[49m\u001b[43m,\u001b[49m\u001b[43m \u001b[49m\u001b[38;5;241;43m*\u001b[39;49m\u001b[38;5;241;43m*\u001b[39;49m\u001b[43mkwargs\u001b[49m\u001b[43m)\u001b[49m\n\u001b[0;32m    719\u001b[0m \u001b[38;5;28;01mif\u001b[39;00m result\u001b[38;5;241m.\u001b[39mdtype \u001b[38;5;241m==\u001b[39m _dtype_obj \u001b[38;5;129;01mand\u001b[39;00m \u001b[38;5;129;01mnot\u001b[39;00m result\u001b[38;5;241m.\u001b[39m_is_multi:\n\u001b[0;32m    720\u001b[0m     \u001b[38;5;66;03m# error: Argument 1 to \"maybe_convert_objects\" has incompatible type\u001b[39;00m\n\u001b[0;32m    721\u001b[0m     \u001b[38;5;66;03m# \"Union[ExtensionArray, ndarray[Any, Any]]\"; expected\u001b[39;00m\n\u001b[0;32m    722\u001b[0m     \u001b[38;5;66;03m# \"ndarray[Any, Any]\"\u001b[39;00m\n\u001b[0;32m    723\u001b[0m     values \u001b[38;5;241m=\u001b[39m lib\u001b[38;5;241m.\u001b[39mmaybe_convert_objects(result\u001b[38;5;241m.\u001b[39m_values)  \u001b[38;5;66;03m# type: ignore[arg-type]\u001b[39;00m\n",
      "File \u001b[1;32m~\\Sandbox\\envs\\analysis-overflow\\Lib\\site-packages\\pandas\\core\\indexes\\base.py:569\u001b[0m, in \u001b[0;36mIndex.__new__\u001b[1;34m(cls, data, dtype, copy, name, tupleize_cols, **kwargs)\u001b[0m\n\u001b[0;32m    566\u001b[0m subarr \u001b[38;5;241m=\u001b[39m com\u001b[38;5;241m.\u001b[39masarray_tuplesafe(data, dtype\u001b[38;5;241m=\u001b[39m_dtype_obj)\n\u001b[0;32m    567\u001b[0m \u001b[38;5;28;01mif\u001b[39;00m dtype \u001b[38;5;129;01mis\u001b[39;00m \u001b[38;5;28;01mNone\u001b[39;00m:\n\u001b[0;32m    568\u001b[0m     \u001b[38;5;66;03m# with e.g. a list [1, 2, 3] casting to numeric is _not_ deprecated\u001b[39;00m\n\u001b[1;32m--> 569\u001b[0m     subarr \u001b[38;5;241m=\u001b[39m \u001b[43m_maybe_cast_data_without_dtype\u001b[49m\u001b[43m(\u001b[49m\n\u001b[0;32m    570\u001b[0m \u001b[43m        \u001b[49m\u001b[43msubarr\u001b[49m\u001b[43m,\u001b[49m\u001b[43m \u001b[49m\u001b[43mcast_numeric_deprecated\u001b[49m\u001b[38;5;241;43m=\u001b[39;49m\u001b[38;5;28;43;01mFalse\u001b[39;49;00m\n\u001b[0;32m    571\u001b[0m \u001b[43m    \u001b[49m\u001b[43m)\u001b[49m\n\u001b[0;32m    572\u001b[0m     dtype \u001b[38;5;241m=\u001b[39m subarr\u001b[38;5;241m.\u001b[39mdtype\n\u001b[0;32m    573\u001b[0m \u001b[38;5;28;01mreturn\u001b[39;00m Index(subarr, dtype\u001b[38;5;241m=\u001b[39mdtype, copy\u001b[38;5;241m=\u001b[39mcopy, name\u001b[38;5;241m=\u001b[39mname, \u001b[38;5;241m*\u001b[39m\u001b[38;5;241m*\u001b[39mkwargs)\n",
      "File \u001b[1;32m~\\Sandbox\\envs\\analysis-overflow\\Lib\\site-packages\\pandas\\core\\indexes\\base.py:7476\u001b[0m, in \u001b[0;36m_maybe_cast_data_without_dtype\u001b[1;34m(subarr, cast_numeric_deprecated)\u001b[0m\n\u001b[0;32m   7468\u001b[0m         \u001b[38;5;28;01mreturn\u001b[39;00m result\n\u001b[0;32m   7470\u001b[0m     warnings\u001b[38;5;241m.\u001b[39mwarn(\n\u001b[0;32m   7471\u001b[0m         \u001b[38;5;124m\"\u001b[39m\u001b[38;5;124mIn a future version, the Index constructor will not infer numeric \u001b[39m\u001b[38;5;124m\"\u001b[39m\n\u001b[0;32m   7472\u001b[0m         \u001b[38;5;124m\"\u001b[39m\u001b[38;5;124mdtypes when passed object-dtype sequences (matching Series behavior)\u001b[39m\u001b[38;5;124m\"\u001b[39m,\n\u001b[0;32m   7473\u001b[0m         \u001b[38;5;167;01mFutureWarning\u001b[39;00m,\n\u001b[0;32m   7474\u001b[0m         stacklevel\u001b[38;5;241m=\u001b[39mfind_stack_level(),\n\u001b[0;32m   7475\u001b[0m     )\n\u001b[1;32m-> 7476\u001b[0m result \u001b[38;5;241m=\u001b[39m \u001b[43mensure_wrapped_if_datetimelike\u001b[49m\u001b[43m(\u001b[49m\u001b[43mresult\u001b[49m\u001b[43m)\u001b[49m\n\u001b[0;32m   7477\u001b[0m \u001b[38;5;28;01mreturn\u001b[39;00m result\n",
      "File \u001b[1;32m~\\Sandbox\\envs\\analysis-overflow\\Lib\\site-packages\\pandas\\core\\construction.py:461\u001b[0m, in \u001b[0;36mensure_wrapped_if_datetimelike\u001b[1;34m(arr)\u001b[0m\n\u001b[0;32m    456\u001b[0m         \u001b[38;5;28;01mreturn\u001b[39;00m obj\u001b[38;5;241m.\u001b[39mto_numpy()\n\u001b[0;32m    458\u001b[0m     \u001b[38;5;28;01mreturn\u001b[39;00m obj\n\u001b[1;32m--> 461\u001b[0m \u001b[38;5;28;01mdef\u001b[39;00m \u001b[38;5;21mensure_wrapped_if_datetimelike\u001b[39m(arr):\n\u001b[0;32m    462\u001b[0m     \u001b[38;5;124;03m\"\"\"\u001b[39;00m\n\u001b[0;32m    463\u001b[0m \u001b[38;5;124;03m    Wrap datetime64 and timedelta64 ndarrays in DatetimeArray/TimedeltaArray.\u001b[39;00m\n\u001b[0;32m    464\u001b[0m \u001b[38;5;124;03m    \"\"\"\u001b[39;00m\n\u001b[0;32m    465\u001b[0m     \u001b[38;5;28;01mif\u001b[39;00m \u001b[38;5;28misinstance\u001b[39m(arr, np\u001b[38;5;241m.\u001b[39mndarray):\n",
      "\u001b[1;31mKeyboardInterrupt\u001b[0m: "
     ]
    }
   ],
   "source": [
    "users[\"badge_counts\"].apply(pd.Series)"
   ]
  },
  {
   "cell_type": "code",
   "execution_count": 211,
   "id": "30d0c866",
   "metadata": {
    "ExecuteTime": {
     "end_time": "2023-01-02T23:00:35.103604Z",
     "start_time": "2023-01-02T23:00:34.983775Z"
    },
    "hidden": true
   },
   "outputs": [
    {
     "data": {
      "text/html": [
       "<div>\n",
       "<style scoped>\n",
       "    .dataframe tbody tr th:only-of-type {\n",
       "        vertical-align: middle;\n",
       "    }\n",
       "\n",
       "    .dataframe tbody tr th {\n",
       "        vertical-align: top;\n",
       "    }\n",
       "\n",
       "    .dataframe thead th {\n",
       "        text-align: right;\n",
       "    }\n",
       "</style>\n",
       "<table border=\"1\" class=\"dataframe\">\n",
       "  <thead>\n",
       "    <tr style=\"text-align: right;\">\n",
       "      <th></th>\n",
       "      <th>bronze</th>\n",
       "      <th>silver</th>\n",
       "      <th>gold</th>\n",
       "    </tr>\n",
       "    <tr>\n",
       "      <th>user_id</th>\n",
       "      <th></th>\n",
       "      <th></th>\n",
       "      <th></th>\n",
       "    </tr>\n",
       "  </thead>\n",
       "  <tbody>\n",
       "    <tr>\n",
       "      <th>3732271</th>\n",
       "      <td>622</td>\n",
       "      <td>504</td>\n",
       "      <td>35</td>\n",
       "    </tr>\n",
       "    <tr>\n",
       "      <th>13302</th>\n",
       "      <td>1440</td>\n",
       "      <td>1320</td>\n",
       "      <td>172</td>\n",
       "    </tr>\n",
       "    <tr>\n",
       "      <th>1126841</th>\n",
       "      <td>645</td>\n",
       "      <td>497</td>\n",
       "      <td>69</td>\n",
       "    </tr>\n",
       "    <tr>\n",
       "      <th>2225682</th>\n",
       "      <td>618</td>\n",
       "      <td>697</td>\n",
       "      <td>61</td>\n",
       "    </tr>\n",
       "    <tr>\n",
       "      <th>18771</th>\n",
       "      <td>619</td>\n",
       "      <td>519</td>\n",
       "      <td>66</td>\n",
       "    </tr>\n",
       "    <tr>\n",
       "      <th>...</th>\n",
       "      <td>...</td>\n",
       "      <td>...</td>\n",
       "      <td>...</td>\n",
       "    </tr>\n",
       "    <tr>\n",
       "      <th>1452382</th>\n",
       "      <td>18</td>\n",
       "      <td>15</td>\n",
       "      <td>0</td>\n",
       "    </tr>\n",
       "    <tr>\n",
       "      <th>1686989</th>\n",
       "      <td>24</td>\n",
       "      <td>18</td>\n",
       "      <td>0</td>\n",
       "    </tr>\n",
       "    <tr>\n",
       "      <th>704837</th>\n",
       "      <td>31</td>\n",
       "      <td>26</td>\n",
       "      <td>0</td>\n",
       "    </tr>\n",
       "    <tr>\n",
       "      <th>3177833</th>\n",
       "      <td>9</td>\n",
       "      <td>12</td>\n",
       "      <td>1</td>\n",
       "    </tr>\n",
       "    <tr>\n",
       "      <th>2801938</th>\n",
       "      <td>10</td>\n",
       "      <td>11</td>\n",
       "      <td>0</td>\n",
       "    </tr>\n",
       "  </tbody>\n",
       "</table>\n",
       "<p>56281 rows × 3 columns</p>\n",
       "</div>"
      ],
      "text/plain": [
       "         bronze  silver  gold\n",
       "user_id                      \n",
       "3732271     622     504    35\n",
       "13302      1440    1320   172\n",
       "1126841     645     497    69\n",
       "2225682     618     697    61\n",
       "18771       619     519    66\n",
       "...         ...     ...   ...\n",
       "1452382      18      15     0\n",
       "1686989      24      18     0\n",
       "704837       31      26     0\n",
       "3177833       9      12     1\n",
       "2801938      10      11     0\n",
       "\n",
       "[56281 rows x 3 columns]"
      ]
     },
     "execution_count": 211,
     "metadata": {},
     "output_type": "execute_result"
    }
   ],
   "source": [
    "user_badges = pd.DataFrame(users[\"badge_counts\"].to_list(), index=users.index)"
   ]
  },
  {
   "cell_type": "code",
   "execution_count": 77,
   "id": "be5c4c8d",
   "metadata": {
    "ExecuteTime": {
     "end_time": "2023-01-02T21:38:02.249392Z",
     "start_time": "2023-01-02T21:37:37.101123Z"
    },
    "hidden": true
   },
   "outputs": [],
   "source": [
    "# 4th quarter 2022 badge recipients\n",
    "from_date = pd.to_datetime(\"20221001\")\n",
    "to_date = pd.to_datetime(\"20221231\")\n",
    "\n",
    "results = so.fetch(endpoint=\"badges/recipients\", fromdate=from_date, todate=to_date)"
   ]
  },
  {
   "cell_type": "code",
   "execution_count": 78,
   "id": "32bd6343",
   "metadata": {
    "ExecuteTime": {
     "end_time": "2023-01-02T21:38:19.140723Z",
     "start_time": "2023-01-02T21:38:19.134556Z"
    },
    "hidden": true
   },
   "outputs": [],
   "source": [
    "items = results.get(\"items\")"
   ]
  },
  {
   "cell_type": "code",
   "execution_count": 80,
   "id": "d6b68c5c",
   "metadata": {
    "ExecuteTime": {
     "end_time": "2023-01-02T21:38:30.440975Z",
     "start_time": "2023-01-02T21:38:30.405421Z"
    },
    "hidden": true
   },
   "outputs": [],
   "source": [
    "recipients = pd.DataFrame(items)"
   ]
  },
  {
   "cell_type": "code",
   "execution_count": 84,
   "id": "d0ec28a2",
   "metadata": {
    "ExecuteTime": {
     "end_time": "2023-01-02T21:38:51.785462Z",
     "start_time": "2023-01-02T21:38:51.762829Z"
    },
    "hidden": true
   },
   "outputs": [
    {
     "data": {
      "text/plain": [
       "named        9972\n",
       "tag_based      28\n",
       "Name: badge_type, dtype: int64"
      ]
     },
     "execution_count": 84,
     "metadata": {},
     "output_type": "execute_result"
    }
   ],
   "source": [
    "recipients.badge_type.value_counts()"
   ]
  },
  {
   "cell_type": "code",
   "execution_count": 83,
   "id": "ad1adade",
   "metadata": {
    "ExecuteTime": {
     "end_time": "2023-01-02T21:38:35.966632Z",
     "start_time": "2023-01-02T21:38:35.942632Z"
    },
    "hidden": true
   },
   "outputs": [
    {
     "data": {
      "text/html": [
       "<div>\n",
       "<style scoped>\n",
       "    .dataframe tbody tr th:only-of-type {\n",
       "        vertical-align: middle;\n",
       "    }\n",
       "\n",
       "    .dataframe tbody tr th {\n",
       "        vertical-align: top;\n",
       "    }\n",
       "\n",
       "    .dataframe thead th {\n",
       "        text-align: right;\n",
       "    }\n",
       "</style>\n",
       "<table border=\"1\" class=\"dataframe\">\n",
       "  <thead>\n",
       "    <tr style=\"text-align: right;\">\n",
       "      <th></th>\n",
       "      <th>user</th>\n",
       "      <th>badge_type</th>\n",
       "      <th>rank</th>\n",
       "      <th>badge_id</th>\n",
       "      <th>link</th>\n",
       "      <th>name</th>\n",
       "    </tr>\n",
       "  </thead>\n",
       "  <tbody>\n",
       "    <tr>\n",
       "      <th>0</th>\n",
       "      <td>{'reputation': 1, 'user_id': 20897121, 'user_t...</td>\n",
       "      <td>named</td>\n",
       "      <td>bronze</td>\n",
       "      <td>9</td>\n",
       "      <td>https://stackoverflow.com/badges/9/autobiographer</td>\n",
       "      <td>Autobiographer</td>\n",
       "    </tr>\n",
       "    <tr>\n",
       "      <th>1</th>\n",
       "      <td>{'reputation': 1, 'user_id': 20897280, 'user_t...</td>\n",
       "      <td>named</td>\n",
       "      <td>bronze</td>\n",
       "      <td>9</td>\n",
       "      <td>https://stackoverflow.com/badges/9/autobiographer</td>\n",
       "      <td>Autobiographer</td>\n",
       "    </tr>\n",
       "    <tr>\n",
       "      <th>2</th>\n",
       "      <td>{'reputation': 1, 'user_id': 20897035, 'user_t...</td>\n",
       "      <td>named</td>\n",
       "      <td>bronze</td>\n",
       "      <td>9</td>\n",
       "      <td>https://stackoverflow.com/badges/9/autobiographer</td>\n",
       "      <td>Autobiographer</td>\n",
       "    </tr>\n",
       "    <tr>\n",
       "      <th>3</th>\n",
       "      <td>{'reputation': 1, 'user_id': 20897179, 'user_t...</td>\n",
       "      <td>named</td>\n",
       "      <td>bronze</td>\n",
       "      <td>9</td>\n",
       "      <td>https://stackoverflow.com/badges/9/autobiographer</td>\n",
       "      <td>Autobiographer</td>\n",
       "    </tr>\n",
       "    <tr>\n",
       "      <th>4</th>\n",
       "      <td>{'reputation': 1, 'user_id': 20856214, 'user_t...</td>\n",
       "      <td>named</td>\n",
       "      <td>bronze</td>\n",
       "      <td>9</td>\n",
       "      <td>https://stackoverflow.com/badges/9/autobiographer</td>\n",
       "      <td>Autobiographer</td>\n",
       "    </tr>\n",
       "    <tr>\n",
       "      <th>...</th>\n",
       "      <td>...</td>\n",
       "      <td>...</td>\n",
       "      <td>...</td>\n",
       "      <td>...</td>\n",
       "      <td>...</td>\n",
       "      <td>...</td>\n",
       "    </tr>\n",
       "    <tr>\n",
       "      <th>9995</th>\n",
       "      <td>{'reputation': 1, 'user_id': 20890224, 'user_t...</td>\n",
       "      <td>named</td>\n",
       "      <td>bronze</td>\n",
       "      <td>2600</td>\n",
       "      <td>https://stackoverflow.com/badges/2600/informed</td>\n",
       "      <td>Informed</td>\n",
       "    </tr>\n",
       "    <tr>\n",
       "      <th>9996</th>\n",
       "      <td>{'reputation': 1, 'user_id': 19558830, 'user_t...</td>\n",
       "      <td>named</td>\n",
       "      <td>bronze</td>\n",
       "      <td>2600</td>\n",
       "      <td>https://stackoverflow.com/badges/2600/informed</td>\n",
       "      <td>Informed</td>\n",
       "    </tr>\n",
       "    <tr>\n",
       "      <th>9997</th>\n",
       "      <td>{'reputation': 1, 'user_id': 20889447, 'user_t...</td>\n",
       "      <td>named</td>\n",
       "      <td>bronze</td>\n",
       "      <td>9</td>\n",
       "      <td>https://stackoverflow.com/badges/9/autobiographer</td>\n",
       "      <td>Autobiographer</td>\n",
       "    </tr>\n",
       "    <tr>\n",
       "      <th>9998</th>\n",
       "      <td>{'reputation': 588, 'user_id': 2537027, 'user_...</td>\n",
       "      <td>named</td>\n",
       "      <td>bronze</td>\n",
       "      <td>1973</td>\n",
       "      <td>https://stackoverflow.com/badges/1973/caucus</td>\n",
       "      <td>Caucus</td>\n",
       "    </tr>\n",
       "    <tr>\n",
       "      <th>9999</th>\n",
       "      <td>{'reputation': 588, 'user_id': 2537027, 'user_...</td>\n",
       "      <td>named</td>\n",
       "      <td>bronze</td>\n",
       "      <td>3</td>\n",
       "      <td>https://stackoverflow.com/badges/3/editor</td>\n",
       "      <td>Editor</td>\n",
       "    </tr>\n",
       "  </tbody>\n",
       "</table>\n",
       "<p>10000 rows × 6 columns</p>\n",
       "</div>"
      ],
      "text/plain": [
       "                                                   user badge_type    rank  \\\n",
       "0     {'reputation': 1, 'user_id': 20897121, 'user_t...      named  bronze   \n",
       "1     {'reputation': 1, 'user_id': 20897280, 'user_t...      named  bronze   \n",
       "2     {'reputation': 1, 'user_id': 20897035, 'user_t...      named  bronze   \n",
       "3     {'reputation': 1, 'user_id': 20897179, 'user_t...      named  bronze   \n",
       "4     {'reputation': 1, 'user_id': 20856214, 'user_t...      named  bronze   \n",
       "...                                                 ...        ...     ...   \n",
       "9995  {'reputation': 1, 'user_id': 20890224, 'user_t...      named  bronze   \n",
       "9996  {'reputation': 1, 'user_id': 19558830, 'user_t...      named  bronze   \n",
       "9997  {'reputation': 1, 'user_id': 20889447, 'user_t...      named  bronze   \n",
       "9998  {'reputation': 588, 'user_id': 2537027, 'user_...      named  bronze   \n",
       "9999  {'reputation': 588, 'user_id': 2537027, 'user_...      named  bronze   \n",
       "\n",
       "      badge_id                                               link  \\\n",
       "0            9  https://stackoverflow.com/badges/9/autobiographer   \n",
       "1            9  https://stackoverflow.com/badges/9/autobiographer   \n",
       "2            9  https://stackoverflow.com/badges/9/autobiographer   \n",
       "3            9  https://stackoverflow.com/badges/9/autobiographer   \n",
       "4            9  https://stackoverflow.com/badges/9/autobiographer   \n",
       "...        ...                                                ...   \n",
       "9995      2600     https://stackoverflow.com/badges/2600/informed   \n",
       "9996      2600     https://stackoverflow.com/badges/2600/informed   \n",
       "9997         9  https://stackoverflow.com/badges/9/autobiographer   \n",
       "9998      1973       https://stackoverflow.com/badges/1973/caucus   \n",
       "9999         3          https://stackoverflow.com/badges/3/editor   \n",
       "\n",
       "                name  \n",
       "0     Autobiographer  \n",
       "1     Autobiographer  \n",
       "2     Autobiographer  \n",
       "3     Autobiographer  \n",
       "4     Autobiographer  \n",
       "...              ...  \n",
       "9995        Informed  \n",
       "9996        Informed  \n",
       "9997  Autobiographer  \n",
       "9998          Caucus  \n",
       "9999          Editor  \n",
       "\n",
       "[10000 rows x 6 columns]"
      ]
     },
     "execution_count": 83,
     "metadata": {},
     "output_type": "execute_result"
    }
   ],
   "source": [
    "recipients.loc[recipients.badge_type]"
   ]
  },
  {
   "cell_type": "code",
   "execution_count": 199,
   "id": "4e34916b",
   "metadata": {
    "ExecuteTime": {
     "end_time": "2022-12-29T23:43:13.100532Z",
     "start_time": "2022-12-29T23:43:12.716238Z"
    },
    "hidden": true
   },
   "outputs": [],
   "source": [
    "recipients = so.fetch(f\"badges/{bronze_python_badge_id}/recipients\")\n",
    "\n",
    "recipients_df = pd.DataFrame(recipients.get(\"items\"))\n",
    "\n",
    "recipients_users_df = pd.DataFrame(recipients_df[\"user\"].to_list())\n",
    "\n",
    "user_ids = recipients_users_df[\"user_id\"].unique()"
   ]
  },
  {
   "cell_type": "markdown",
   "id": "78cf44a9",
   "metadata": {
    "hidden": true
   },
   "source": [
    "Get user posts tagged with `python`"
   ]
  },
  {
   "cell_type": "code",
   "execution_count": 211,
   "id": "d22446c1",
   "metadata": {
    "ExecuteTime": {
     "end_time": "2022-12-29T23:44:43.065624Z",
     "start_time": "2022-12-29T23:44:42.692524Z"
    },
    "hidden": true
   },
   "outputs": [],
   "source": [
    "my_posts = so.fetch(\"users/{ids}/posts\", ids=[me])\n",
    "\n",
    "my_posts_df = pd.DataFrame(my_posts.get(\"items\"))\n",
    "\n",
    "my_answer_posts = my_posts_df.loc[my_posts_df.post_type.eq(\"answer\")].copy()\n",
    "\n",
    "my_answer_post_ids = my_answer_posts.post_id.unique()"
   ]
  },
  {
   "cell_type": "code",
   "execution_count": 239,
   "id": "362c49f2",
   "metadata": {
    "ExecuteTime": {
     "end_time": "2022-12-29T23:56:04.170208Z",
     "start_time": "2022-12-29T23:56:03.945110Z"
    },
    "hidden": true
   },
   "outputs": [],
   "source": [
    "questions_answered = so.fetch(\"answers/{ids}/questions\", ids=my_answer_post_ids[:100])\n",
    "\n",
    "questions_answered_df = pd.DataFrame(questions_answered.get(\"items\"))\n",
    "\n",
    "questions_tagged_with_python = questions_answered_df.loc[\n",
    "    questions_answered_df[\"tags\"].apply(lambda x: \"python\" in x).eq(True)\n",
    "].copy()\n",
    "\n",
    "python_question_ids = questions_tagged_with_python.question_id.unique()"
   ]
  },
  {
   "cell_type": "code",
   "execution_count": 270,
   "id": "96b49d80",
   "metadata": {
    "ExecuteTime": {
     "end_time": "2022-12-30T00:05:20.499418Z",
     "start_time": "2022-12-30T00:05:20.479209Z"
    },
    "hidden": true,
    "scrolled": true
   },
   "outputs": [
    {
     "data": {
      "text/html": [
       "<div>\n",
       "<style scoped>\n",
       "    .dataframe tbody tr th:only-of-type {\n",
       "        vertical-align: middle;\n",
       "    }\n",
       "\n",
       "    .dataframe tbody tr th {\n",
       "        vertical-align: top;\n",
       "    }\n",
       "\n",
       "    .dataframe thead th {\n",
       "        text-align: right;\n",
       "    }\n",
       "</style>\n",
       "<table border=\"1\" class=\"dataframe\">\n",
       "  <thead>\n",
       "    <tr style=\"text-align: right;\">\n",
       "      <th></th>\n",
       "      <th>tags</th>\n",
       "      <th>owner</th>\n",
       "      <th>is_answered</th>\n",
       "      <th>view_count</th>\n",
       "      <th>answer_count</th>\n",
       "      <th>score</th>\n",
       "      <th>last_activity_date</th>\n",
       "      <th>creation_date</th>\n",
       "      <th>last_edit_date</th>\n",
       "      <th>question_id</th>\n",
       "      <th>content_license</th>\n",
       "      <th>link</th>\n",
       "      <th>title</th>\n",
       "      <th>accepted_answer_id</th>\n",
       "      <th>closed_date</th>\n",
       "      <th>closed_reason</th>\n",
       "    </tr>\n",
       "  </thead>\n",
       "  <tbody>\n",
       "    <tr>\n",
       "      <th>0</th>\n",
       "      <td>[python, pandas, dataframe, replace, merge]</td>\n",
       "      <td>{'reputation': 1, 'user_id': 20889016, 'user_t...</td>\n",
       "      <td>True</td>\n",
       "      <td>36</td>\n",
       "      <td>2</td>\n",
       "      <td>0</td>\n",
       "      <td>1672344723</td>\n",
       "      <td>1672338802</td>\n",
       "      <td>1.672345e+09</td>\n",
       "      <td>74954851</td>\n",
       "      <td>CC BY-SA 4.0</td>\n",
       "      <td>https://stackoverflow.com/questions/74954851/i...</td>\n",
       "      <td>I want the rows in 2nd dataframe to replace co...</td>\n",
       "      <td>NaN</td>\n",
       "      <td>NaN</td>\n",
       "      <td>NaN</td>\n",
       "    </tr>\n",
       "    <tr>\n",
       "      <th>1</th>\n",
       "      <td>[python, pandas, dataframe, web-scraping, data...</td>\n",
       "      <td>{'reputation': 19, 'user_id': 13829846, 'user_...</td>\n",
       "      <td>True</td>\n",
       "      <td>44</td>\n",
       "      <td>2</td>\n",
       "      <td>0</td>\n",
       "      <td>1672331276</td>\n",
       "      <td>1671738504</td>\n",
       "      <td>1.672331e+09</td>\n",
       "      <td>74893218</td>\n",
       "      <td>CC BY-SA 4.0</td>\n",
       "      <td>https://stackoverflow.com/questions/74893218/h...</td>\n",
       "      <td>How to scrape a table from a page and create a...</td>\n",
       "      <td>74893831.0</td>\n",
       "      <td>NaN</td>\n",
       "      <td>NaN</td>\n",
       "    </tr>\n",
       "    <tr>\n",
       "      <th>2</th>\n",
       "      <td>[python, pandas, dataframe, numpy, glob]</td>\n",
       "      <td>{'reputation': 921, 'user_id': 2077648, 'user_...</td>\n",
       "      <td>True</td>\n",
       "      <td>54</td>\n",
       "      <td>1</td>\n",
       "      <td>-1</td>\n",
       "      <td>1672242022</td>\n",
       "      <td>1671723201</td>\n",
       "      <td>1.671726e+09</td>\n",
       "      <td>74890684</td>\n",
       "      <td>CC BY-SA 4.0</td>\n",
       "      <td>https://stackoverflow.com/questions/74890684/h...</td>\n",
       "      <td>How to generate a report in python containing ...</td>\n",
       "      <td>74891230.0</td>\n",
       "      <td>NaN</td>\n",
       "      <td>NaN</td>\n",
       "    </tr>\n",
       "    <tr>\n",
       "      <th>3</th>\n",
       "      <td>[python, pandas, dataframe]</td>\n",
       "      <td>{'reputation': 29, 'user_id': 16704021, 'user_...</td>\n",
       "      <td>False</td>\n",
       "      <td>27</td>\n",
       "      <td>1</td>\n",
       "      <td>0</td>\n",
       "      <td>1671832005</td>\n",
       "      <td>1671829200</td>\n",
       "      <td>1.671832e+09</td>\n",
       "      <td>74903951</td>\n",
       "      <td>CC BY-SA 4.0</td>\n",
       "      <td>https://stackoverflow.com/questions/74903951/l...</td>\n",
       "      <td>Looping through Df and Merge result into a par...</td>\n",
       "      <td>NaN</td>\n",
       "      <td>NaN</td>\n",
       "      <td>NaN</td>\n",
       "    </tr>\n",
       "    <tr>\n",
       "      <th>4</th>\n",
       "      <td>[python, pandas, dataframe, datetime, rolling-...</td>\n",
       "      <td>{'reputation': 147, 'user_id': 14281607, 'user...</td>\n",
       "      <td>True</td>\n",
       "      <td>28</td>\n",
       "      <td>1</td>\n",
       "      <td>0</td>\n",
       "      <td>1671738423</td>\n",
       "      <td>1671731101</td>\n",
       "      <td>NaN</td>\n",
       "      <td>74892096</td>\n",
       "      <td>CC BY-SA 4.0</td>\n",
       "      <td>https://stackoverflow.com/questions/74892096/r...</td>\n",
       "      <td>Rolling mean before specific datetime</td>\n",
       "      <td>74893211.0</td>\n",
       "      <td>NaN</td>\n",
       "      <td>NaN</td>\n",
       "    </tr>\n",
       "    <tr>\n",
       "      <th>...</th>\n",
       "      <td>...</td>\n",
       "      <td>...</td>\n",
       "      <td>...</td>\n",
       "      <td>...</td>\n",
       "      <td>...</td>\n",
       "      <td>...</td>\n",
       "      <td>...</td>\n",
       "      <td>...</td>\n",
       "      <td>...</td>\n",
       "      <td>...</td>\n",
       "      <td>...</td>\n",
       "      <td>...</td>\n",
       "      <td>...</td>\n",
       "      <td>...</td>\n",
       "      <td>...</td>\n",
       "      <td>...</td>\n",
       "    </tr>\n",
       "    <tr>\n",
       "      <th>94</th>\n",
       "      <td>[python, pandas, dataframe, initialization, ap...</td>\n",
       "      <td>{'reputation': 23, 'user_id': 11087858, 'user_...</td>\n",
       "      <td>True</td>\n",
       "      <td>1480</td>\n",
       "      <td>2</td>\n",
       "      <td>2</td>\n",
       "      <td>1550643218</td>\n",
       "      <td>1550635476</td>\n",
       "      <td>NaN</td>\n",
       "      <td>54778657</td>\n",
       "      <td>CC BY-SA 4.0</td>\n",
       "      <td>https://stackoverflow.com/questions/54778657/c...</td>\n",
       "      <td>Creating Empty Data Frame and adding Rows to it</td>\n",
       "      <td>54779235.0</td>\n",
       "      <td>NaN</td>\n",
       "      <td>NaN</td>\n",
       "    </tr>\n",
       "    <tr>\n",
       "      <th>95</th>\n",
       "      <td>[python, pandas]</td>\n",
       "      <td>{'reputation': 13, 'user_id': 10488004, 'user_...</td>\n",
       "      <td>True</td>\n",
       "      <td>77</td>\n",
       "      <td>1</td>\n",
       "      <td>1</td>\n",
       "      <td>1540329589</td>\n",
       "      <td>1539381339</td>\n",
       "      <td>1.539382e+09</td>\n",
       "      <td>52787453</td>\n",
       "      <td>CC BY-SA 4.0</td>\n",
       "      <td>https://stackoverflow.com/questions/52787453/f...</td>\n",
       "      <td>Filtering for values in Pivot table columns</td>\n",
       "      <td>52819617.0</td>\n",
       "      <td>NaN</td>\n",
       "      <td>NaN</td>\n",
       "    </tr>\n",
       "    <tr>\n",
       "      <th>96</th>\n",
       "      <td>[python, pandas]</td>\n",
       "      <td>{'reputation': 1739, 'user_id': 7877094, 'user...</td>\n",
       "      <td>True</td>\n",
       "      <td>1142</td>\n",
       "      <td>1</td>\n",
       "      <td>1</td>\n",
       "      <td>1539564317</td>\n",
       "      <td>1539511338</td>\n",
       "      <td>1.539520e+09</td>\n",
       "      <td>52801540</td>\n",
       "      <td>CC BY-SA 4.0</td>\n",
       "      <td>https://stackoverflow.com/questions/52801540/p...</td>\n",
       "      <td>Pandas groupby then rolling mean</td>\n",
       "      <td>52808384.0</td>\n",
       "      <td>NaN</td>\n",
       "      <td>NaN</td>\n",
       "    </tr>\n",
       "    <tr>\n",
       "      <th>98</th>\n",
       "      <td>[python, pandas, pivot-table]</td>\n",
       "      <td>{'reputation': 31, 'user_id': 9556045, 'user_t...</td>\n",
       "      <td>False</td>\n",
       "      <td>78</td>\n",
       "      <td>1</td>\n",
       "      <td>1</td>\n",
       "      <td>1523976304</td>\n",
       "      <td>1523717302</td>\n",
       "      <td>1.523946e+09</td>\n",
       "      <td>49832708</td>\n",
       "      <td>CC BY-SA 3.0</td>\n",
       "      <td>https://stackoverflow.com/questions/49832708/p...</td>\n",
       "      <td>plot legend in multi_index figure plot</td>\n",
       "      <td>NaN</td>\n",
       "      <td>NaN</td>\n",
       "      <td>NaN</td>\n",
       "    </tr>\n",
       "    <tr>\n",
       "      <th>99</th>\n",
       "      <td>[python, pandas]</td>\n",
       "      <td>{'reputation': 471, 'user_id': 4604121, 'user_...</td>\n",
       "      <td>False</td>\n",
       "      <td>143</td>\n",
       "      <td>1</td>\n",
       "      <td>0</td>\n",
       "      <td>1523739998</td>\n",
       "      <td>1523720163</td>\n",
       "      <td>1.523721e+09</td>\n",
       "      <td>49833151</td>\n",
       "      <td>CC BY-SA 3.0</td>\n",
       "      <td>https://stackoverflow.com/questions/49833151/h...</td>\n",
       "      <td>How to sum over the columns of the output of a...</td>\n",
       "      <td>NaN</td>\n",
       "      <td>NaN</td>\n",
       "      <td>NaN</td>\n",
       "    </tr>\n",
       "  </tbody>\n",
       "</table>\n",
       "<p>81 rows × 16 columns</p>\n",
       "</div>"
      ],
      "text/plain": [
       "                                                 tags  \\\n",
       "0         [python, pandas, dataframe, replace, merge]   \n",
       "1   [python, pandas, dataframe, web-scraping, data...   \n",
       "2            [python, pandas, dataframe, numpy, glob]   \n",
       "3                         [python, pandas, dataframe]   \n",
       "4   [python, pandas, dataframe, datetime, rolling-...   \n",
       "..                                                ...   \n",
       "94  [python, pandas, dataframe, initialization, ap...   \n",
       "95                                   [python, pandas]   \n",
       "96                                   [python, pandas]   \n",
       "98                      [python, pandas, pivot-table]   \n",
       "99                                   [python, pandas]   \n",
       "\n",
       "                                                owner  is_answered  \\\n",
       "0   {'reputation': 1, 'user_id': 20889016, 'user_t...         True   \n",
       "1   {'reputation': 19, 'user_id': 13829846, 'user_...         True   \n",
       "2   {'reputation': 921, 'user_id': 2077648, 'user_...         True   \n",
       "3   {'reputation': 29, 'user_id': 16704021, 'user_...        False   \n",
       "4   {'reputation': 147, 'user_id': 14281607, 'user...         True   \n",
       "..                                                ...          ...   \n",
       "94  {'reputation': 23, 'user_id': 11087858, 'user_...         True   \n",
       "95  {'reputation': 13, 'user_id': 10488004, 'user_...         True   \n",
       "96  {'reputation': 1739, 'user_id': 7877094, 'user...         True   \n",
       "98  {'reputation': 31, 'user_id': 9556045, 'user_t...        False   \n",
       "99  {'reputation': 471, 'user_id': 4604121, 'user_...        False   \n",
       "\n",
       "    view_count  answer_count  score  last_activity_date  creation_date  \\\n",
       "0           36             2      0          1672344723     1672338802   \n",
       "1           44             2      0          1672331276     1671738504   \n",
       "2           54             1     -1          1672242022     1671723201   \n",
       "3           27             1      0          1671832005     1671829200   \n",
       "4           28             1      0          1671738423     1671731101   \n",
       "..         ...           ...    ...                 ...            ...   \n",
       "94        1480             2      2          1550643218     1550635476   \n",
       "95          77             1      1          1540329589     1539381339   \n",
       "96        1142             1      1          1539564317     1539511338   \n",
       "98          78             1      1          1523976304     1523717302   \n",
       "99         143             1      0          1523739998     1523720163   \n",
       "\n",
       "    last_edit_date  question_id content_license  \\\n",
       "0     1.672345e+09     74954851    CC BY-SA 4.0   \n",
       "1     1.672331e+09     74893218    CC BY-SA 4.0   \n",
       "2     1.671726e+09     74890684    CC BY-SA 4.0   \n",
       "3     1.671832e+09     74903951    CC BY-SA 4.0   \n",
       "4              NaN     74892096    CC BY-SA 4.0   \n",
       "..             ...          ...             ...   \n",
       "94             NaN     54778657    CC BY-SA 4.0   \n",
       "95    1.539382e+09     52787453    CC BY-SA 4.0   \n",
       "96    1.539520e+09     52801540    CC BY-SA 4.0   \n",
       "98    1.523946e+09     49832708    CC BY-SA 3.0   \n",
       "99    1.523721e+09     49833151    CC BY-SA 3.0   \n",
       "\n",
       "                                                 link  \\\n",
       "0   https://stackoverflow.com/questions/74954851/i...   \n",
       "1   https://stackoverflow.com/questions/74893218/h...   \n",
       "2   https://stackoverflow.com/questions/74890684/h...   \n",
       "3   https://stackoverflow.com/questions/74903951/l...   \n",
       "4   https://stackoverflow.com/questions/74892096/r...   \n",
       "..                                                ...   \n",
       "94  https://stackoverflow.com/questions/54778657/c...   \n",
       "95  https://stackoverflow.com/questions/52787453/f...   \n",
       "96  https://stackoverflow.com/questions/52801540/p...   \n",
       "98  https://stackoverflow.com/questions/49832708/p...   \n",
       "99  https://stackoverflow.com/questions/49833151/h...   \n",
       "\n",
       "                                                title  accepted_answer_id  \\\n",
       "0   I want the rows in 2nd dataframe to replace co...                 NaN   \n",
       "1   How to scrape a table from a page and create a...          74893831.0   \n",
       "2   How to generate a report in python containing ...          74891230.0   \n",
       "3   Looping through Df and Merge result into a par...                 NaN   \n",
       "4               Rolling mean before specific datetime          74893211.0   \n",
       "..                                                ...                 ...   \n",
       "94    Creating Empty Data Frame and adding Rows to it          54779235.0   \n",
       "95        Filtering for values in Pivot table columns          52819617.0   \n",
       "96                   Pandas groupby then rolling mean          52808384.0   \n",
       "98             plot legend in multi_index figure plot                 NaN   \n",
       "99  How to sum over the columns of the output of a...                 NaN   \n",
       "\n",
       "    closed_date closed_reason  \n",
       "0           NaN           NaN  \n",
       "1           NaN           NaN  \n",
       "2           NaN           NaN  \n",
       "3           NaN           NaN  \n",
       "4           NaN           NaN  \n",
       "..          ...           ...  \n",
       "94          NaN           NaN  \n",
       "95          NaN           NaN  \n",
       "96          NaN           NaN  \n",
       "98          NaN           NaN  \n",
       "99          NaN           NaN  \n",
       "\n",
       "[81 rows x 16 columns]"
      ]
     },
     "execution_count": 270,
     "metadata": {},
     "output_type": "execute_result"
    }
   ],
   "source": [
    "questions_tagged_with_python"
   ]
  },
  {
   "cell_type": "code",
   "execution_count": 265,
   "id": "f9d3f797",
   "metadata": {
    "ExecuteTime": {
     "end_time": "2022-12-30T00:04:14.237949Z",
     "start_time": "2022-12-30T00:04:13.777490Z"
    },
    "hidden": true
   },
   "outputs": [],
   "source": [
    "python_question_answers = so.fetch(\"questions/{ids}/answers\", ids=python_question_ids[:100])"
   ]
  },
  {
   "cell_type": "code",
   "execution_count": 268,
   "id": "f9abe81a",
   "metadata": {
    "ExecuteTime": {
     "end_time": "2022-12-30T00:04:29.784633Z",
     "start_time": "2022-12-30T00:04:29.780237Z"
    },
    "hidden": true
   },
   "outputs": [],
   "source": [
    "python_qa_df = pd.DataFrame(python_question_answers.get(\"items\"))"
   ]
  },
  {
   "cell_type": "code",
   "execution_count": 275,
   "id": "d17d0726",
   "metadata": {
    "ExecuteTime": {
     "end_time": "2022-12-30T00:06:26.347485Z",
     "start_time": "2022-12-30T00:06:26.333530Z"
    },
    "hidden": true
   },
   "outputs": [
    {
     "data": {
      "text/html": [
       "<div>\n",
       "<style scoped>\n",
       "    .dataframe tbody tr th:only-of-type {\n",
       "        vertical-align: middle;\n",
       "    }\n",
       "\n",
       "    .dataframe tbody tr th {\n",
       "        vertical-align: top;\n",
       "    }\n",
       "\n",
       "    .dataframe thead th {\n",
       "        text-align: right;\n",
       "    }\n",
       "</style>\n",
       "<table border=\"1\" class=\"dataframe\">\n",
       "  <thead>\n",
       "    <tr style=\"text-align: right;\">\n",
       "      <th></th>\n",
       "      <th>owner</th>\n",
       "      <th>is_accepted</th>\n",
       "      <th>score</th>\n",
       "      <th>last_activity_date</th>\n",
       "      <th>creation_date</th>\n",
       "      <th>answer_id</th>\n",
       "      <th>question_id</th>\n",
       "      <th>content_license</th>\n",
       "      <th>last_edit_date</th>\n",
       "    </tr>\n",
       "  </thead>\n",
       "  <tbody>\n",
       "    <tr>\n",
       "      <th>0</th>\n",
       "      <td>{'reputation': 2539, 'user_id': 6509519, 'user...</td>\n",
       "      <td>False</td>\n",
       "      <td>0</td>\n",
       "      <td>1672341411</td>\n",
       "      <td>1672341411</td>\n",
       "      <td>74955231</td>\n",
       "      <td>74954851</td>\n",
       "      <td>CC BY-SA 4.0</td>\n",
       "      <td>NaN</td>\n",
       "    </tr>\n",
       "    <tr>\n",
       "      <th>2</th>\n",
       "      <td>{'reputation': 2539, 'user_id': 6509519, 'user...</td>\n",
       "      <td>True</td>\n",
       "      <td>1</td>\n",
       "      <td>1672242022</td>\n",
       "      <td>1671726155</td>\n",
       "      <td>74891230</td>\n",
       "      <td>74890684</td>\n",
       "      <td>CC BY-SA 4.0</td>\n",
       "      <td>1.672242e+09</td>\n",
       "    </tr>\n",
       "    <tr>\n",
       "      <th>3</th>\n",
       "      <td>{'reputation': 2539, 'user_id': 6509519, 'user...</td>\n",
       "      <td>False</td>\n",
       "      <td>0</td>\n",
       "      <td>1671831426</td>\n",
       "      <td>1671829718</td>\n",
       "      <td>74904008</td>\n",
       "      <td>74903951</td>\n",
       "      <td>CC BY-SA 4.0</td>\n",
       "      <td>1.671831e+09</td>\n",
       "    </tr>\n",
       "    <tr>\n",
       "      <th>5</th>\n",
       "      <td>{'reputation': 2539, 'user_id': 6509519, 'user...</td>\n",
       "      <td>True</td>\n",
       "      <td>2</td>\n",
       "      <td>1671743126</td>\n",
       "      <td>1671743126</td>\n",
       "      <td>74893831</td>\n",
       "      <td>74893218</td>\n",
       "      <td>CC BY-SA 4.0</td>\n",
       "      <td>NaN</td>\n",
       "    </tr>\n",
       "    <tr>\n",
       "      <th>6</th>\n",
       "      <td>{'reputation': 2539, 'user_id': 6509519, 'user...</td>\n",
       "      <td>True</td>\n",
       "      <td>0</td>\n",
       "      <td>1671738423</td>\n",
       "      <td>1671738423</td>\n",
       "      <td>74893211</td>\n",
       "      <td>74892096</td>\n",
       "      <td>CC BY-SA 4.0</td>\n",
       "      <td>NaN</td>\n",
       "    </tr>\n",
       "    <tr>\n",
       "      <th>...</th>\n",
       "      <td>...</td>\n",
       "      <td>...</td>\n",
       "      <td>...</td>\n",
       "      <td>...</td>\n",
       "      <td>...</td>\n",
       "      <td>...</td>\n",
       "      <td>...</td>\n",
       "      <td>...</td>\n",
       "      <td>...</td>\n",
       "    </tr>\n",
       "    <tr>\n",
       "      <th>130</th>\n",
       "      <td>{'reputation': 2539, 'user_id': 6509519, 'user...</td>\n",
       "      <td>True</td>\n",
       "      <td>3</td>\n",
       "      <td>1550639433</td>\n",
       "      <td>1550639433</td>\n",
       "      <td>54779235</td>\n",
       "      <td>54778657</td>\n",
       "      <td>CC BY-SA 4.0</td>\n",
       "      <td>NaN</td>\n",
       "    </tr>\n",
       "    <tr>\n",
       "      <th>134</th>\n",
       "      <td>{'reputation': 2539, 'user_id': 6509519, 'user...</td>\n",
       "      <td>True</td>\n",
       "      <td>0</td>\n",
       "      <td>1540329589</td>\n",
       "      <td>1539615757</td>\n",
       "      <td>52819617</td>\n",
       "      <td>52787453</td>\n",
       "      <td>CC BY-SA 4.0</td>\n",
       "      <td>1.540330e+09</td>\n",
       "    </tr>\n",
       "    <tr>\n",
       "      <th>135</th>\n",
       "      <td>{'reputation': 2539, 'user_id': 6509519, 'user...</td>\n",
       "      <td>True</td>\n",
       "      <td>2</td>\n",
       "      <td>1539564317</td>\n",
       "      <td>1539564317</td>\n",
       "      <td>52808384</td>\n",
       "      <td>52801540</td>\n",
       "      <td>CC BY-SA 4.0</td>\n",
       "      <td>NaN</td>\n",
       "    </tr>\n",
       "    <tr>\n",
       "      <th>138</th>\n",
       "      <td>{'reputation': 2539, 'user_id': 6509519, 'user...</td>\n",
       "      <td>False</td>\n",
       "      <td>0</td>\n",
       "      <td>1523976304</td>\n",
       "      <td>1523976304</td>\n",
       "      <td>49881148</td>\n",
       "      <td>49832708</td>\n",
       "      <td>CC BY-SA 3.0</td>\n",
       "      <td>NaN</td>\n",
       "    </tr>\n",
       "    <tr>\n",
       "      <th>139</th>\n",
       "      <td>{'reputation': 2539, 'user_id': 6509519, 'user...</td>\n",
       "      <td>False</td>\n",
       "      <td>0</td>\n",
       "      <td>1523739998</td>\n",
       "      <td>1523739998</td>\n",
       "      <td>49836213</td>\n",
       "      <td>49833151</td>\n",
       "      <td>CC BY-SA 3.0</td>\n",
       "      <td>NaN</td>\n",
       "    </tr>\n",
       "  </tbody>\n",
       "</table>\n",
       "<p>81 rows × 9 columns</p>\n",
       "</div>"
      ],
      "text/plain": [
       "                                                 owner  is_accepted  score  \\\n",
       "0    {'reputation': 2539, 'user_id': 6509519, 'user...        False      0   \n",
       "2    {'reputation': 2539, 'user_id': 6509519, 'user...         True      1   \n",
       "3    {'reputation': 2539, 'user_id': 6509519, 'user...        False      0   \n",
       "5    {'reputation': 2539, 'user_id': 6509519, 'user...         True      2   \n",
       "6    {'reputation': 2539, 'user_id': 6509519, 'user...         True      0   \n",
       "..                                                 ...          ...    ...   \n",
       "130  {'reputation': 2539, 'user_id': 6509519, 'user...         True      3   \n",
       "134  {'reputation': 2539, 'user_id': 6509519, 'user...         True      0   \n",
       "135  {'reputation': 2539, 'user_id': 6509519, 'user...         True      2   \n",
       "138  {'reputation': 2539, 'user_id': 6509519, 'user...        False      0   \n",
       "139  {'reputation': 2539, 'user_id': 6509519, 'user...        False      0   \n",
       "\n",
       "     last_activity_date  creation_date  answer_id  question_id  \\\n",
       "0            1672341411     1672341411   74955231     74954851   \n",
       "2            1672242022     1671726155   74891230     74890684   \n",
       "3            1671831426     1671829718   74904008     74903951   \n",
       "5            1671743126     1671743126   74893831     74893218   \n",
       "6            1671738423     1671738423   74893211     74892096   \n",
       "..                  ...            ...        ...          ...   \n",
       "130          1550639433     1550639433   54779235     54778657   \n",
       "134          1540329589     1539615757   52819617     52787453   \n",
       "135          1539564317     1539564317   52808384     52801540   \n",
       "138          1523976304     1523976304   49881148     49832708   \n",
       "139          1523739998     1523739998   49836213     49833151   \n",
       "\n",
       "    content_license  last_edit_date  \n",
       "0      CC BY-SA 4.0             NaN  \n",
       "2      CC BY-SA 4.0    1.672242e+09  \n",
       "3      CC BY-SA 4.0    1.671831e+09  \n",
       "5      CC BY-SA 4.0             NaN  \n",
       "6      CC BY-SA 4.0             NaN  \n",
       "..              ...             ...  \n",
       "130    CC BY-SA 4.0             NaN  \n",
       "134    CC BY-SA 4.0    1.540330e+09  \n",
       "135    CC BY-SA 4.0             NaN  \n",
       "138    CC BY-SA 3.0             NaN  \n",
       "139    CC BY-SA 3.0             NaN  \n",
       "\n",
       "[81 rows x 9 columns]"
      ]
     },
     "execution_count": 275,
     "metadata": {},
     "output_type": "execute_result"
    }
   ],
   "source": [
    "python_qa_df.loc[\n",
    "    python_qa_df.owner.apply(lambda row: row.get(\"user_id\") == me).eq(True)\n",
    "]"
   ]
  },
  {
   "cell_type": "markdown",
   "id": "4a69fab3",
   "metadata": {
    "heading_collapsed": true
   },
   "source": [
    "### Users"
   ]
  },
  {
   "cell_type": "code",
   "execution_count": 7,
   "id": "86605651",
   "metadata": {
    "ExecuteTime": {
     "end_time": "2022-12-29T20:35:40.527562Z",
     "start_time": "2022-12-29T20:35:40.268417Z"
    },
    "hidden": true
   },
   "outputs": [],
   "source": [
    "# users = so.fetch(\"users\")"
   ]
  },
  {
   "cell_type": "code",
   "execution_count": 20,
   "id": "d5c14b6e",
   "metadata": {
    "ExecuteTime": {
     "end_time": "2022-12-29T20:38:29.813955Z",
     "start_time": "2022-12-29T20:38:29.808550Z"
    },
    "hidden": true
   },
   "outputs": [
    {
     "data": {
      "text/plain": [
       "dict_keys(['backoff', 'has_more', 'page', 'quota_max', 'quota_remaining', 'total', 'items'])"
      ]
     },
     "execution_count": 20,
     "metadata": {},
     "output_type": "execute_result"
    }
   ],
   "source": [
    "users.keys()"
   ]
  },
  {
   "cell_type": "code",
   "execution_count": 26,
   "id": "c39614f2",
   "metadata": {
    "ExecuteTime": {
     "end_time": "2022-12-29T20:39:14.234620Z",
     "start_time": "2022-12-29T20:39:14.229637Z"
    },
    "hidden": true
   },
   "outputs": [
    {
     "data": {
      "text/plain": [
       "293"
      ]
     },
     "execution_count": 26,
     "metadata": {},
     "output_type": "execute_result"
    }
   ],
   "source": [
    "users.get(\"quota_remaining\")"
   ]
  },
  {
   "cell_type": "code",
   "execution_count": 51,
   "id": "af990d2e",
   "metadata": {
    "ExecuteTime": {
     "end_time": "2022-12-29T20:46:01.324192Z",
     "start_time": "2022-12-29T20:46:01.318848Z"
    },
    "hidden": true,
    "scrolled": true
   },
   "outputs": [],
   "source": [
    "users_df = pd.DataFrame(users.get(\"items\"))"
   ]
  },
  {
   "cell_type": "code",
   "execution_count": 52,
   "id": "91cfbe9d",
   "metadata": {
    "ExecuteTime": {
     "end_time": "2022-12-29T20:46:03.923282Z",
     "start_time": "2022-12-29T20:46:03.911560Z"
    },
    "hidden": true
   },
   "outputs": [
    {
     "data": {
      "text/html": [
       "<div>\n",
       "<style scoped>\n",
       "    .dataframe tbody tr th:only-of-type {\n",
       "        vertical-align: middle;\n",
       "    }\n",
       "\n",
       "    .dataframe tbody tr th {\n",
       "        vertical-align: top;\n",
       "    }\n",
       "\n",
       "    .dataframe thead th {\n",
       "        text-align: right;\n",
       "    }\n",
       "</style>\n",
       "<table border=\"1\" class=\"dataframe\">\n",
       "  <thead>\n",
       "    <tr style=\"text-align: right;\">\n",
       "      <th></th>\n",
       "      <th>badge_counts</th>\n",
       "      <th>account_id</th>\n",
       "      <th>is_employee</th>\n",
       "      <th>last_modified_date</th>\n",
       "      <th>last_access_date</th>\n",
       "      <th>reputation_change_year</th>\n",
       "      <th>reputation_change_quarter</th>\n",
       "      <th>reputation_change_month</th>\n",
       "      <th>reputation_change_week</th>\n",
       "      <th>reputation_change_day</th>\n",
       "      <th>reputation</th>\n",
       "      <th>creation_date</th>\n",
       "      <th>user_type</th>\n",
       "      <th>user_id</th>\n",
       "      <th>accept_rate</th>\n",
       "      <th>location</th>\n",
       "      <th>website_url</th>\n",
       "      <th>link</th>\n",
       "      <th>profile_image</th>\n",
       "      <th>display_name</th>\n",
       "    </tr>\n",
       "  </thead>\n",
       "  <tbody>\n",
       "    <tr>\n",
       "      <th>0</th>\n",
       "      <td>{'bronze': 9125, 'silver': 9025, 'gold': 846}</td>\n",
       "      <td>11683</td>\n",
       "      <td>False</td>\n",
       "      <td>1672231500</td>\n",
       "      <td>1672334662</td>\n",
       "      <td>71334</td>\n",
       "      <td>17764</td>\n",
       "      <td>5339</td>\n",
       "      <td>943</td>\n",
       "      <td>200</td>\n",
       "      <td>1376648</td>\n",
       "      <td>1222430705</td>\n",
       "      <td>registered</td>\n",
       "      <td>22656</td>\n",
       "      <td>86.0</td>\n",
       "      <td>Reading, United Kingdom</td>\n",
       "      <td>http://csharpindepth.com</td>\n",
       "      <td>https://stackoverflow.com/users/22656/jon-skeet</td>\n",
       "      <td>https://www.gravatar.com/avatar/6d8ebb117e8d83...</td>\n",
       "      <td>Jon Skeet</td>\n",
       "    </tr>\n",
       "    <tr>\n",
       "      <th>1</th>\n",
       "      <td>{'bronze': 759, 'silver': 612, 'gold': 53}</td>\n",
       "      <td>1165580</td>\n",
       "      <td>False</td>\n",
       "      <td>1671807902</td>\n",
       "      <td>1671812780</td>\n",
       "      <td>39419</td>\n",
       "      <td>9254</td>\n",
       "      <td>2666</td>\n",
       "      <td>400</td>\n",
       "      <td>60</td>\n",
       "      <td>1221206</td>\n",
       "      <td>1326311637</td>\n",
       "      <td>registered</td>\n",
       "      <td>1144035</td>\n",
       "      <td>NaN</td>\n",
       "      <td>New York, United States</td>\n",
       "      <td>http://www.data-miners.com</td>\n",
       "      <td>https://stackoverflow.com/users/1144035/gordon...</td>\n",
       "      <td>https://www.gravatar.com/avatar/e514b017977ebf...</td>\n",
       "      <td>Gordon Linoff</td>\n",
       "    </tr>\n",
       "  </tbody>\n",
       "</table>\n",
       "</div>"
      ],
      "text/plain": [
       "                                    badge_counts  account_id  is_employee  \\\n",
       "0  {'bronze': 9125, 'silver': 9025, 'gold': 846}       11683        False   \n",
       "1     {'bronze': 759, 'silver': 612, 'gold': 53}     1165580        False   \n",
       "\n",
       "   last_modified_date  last_access_date  reputation_change_year  \\\n",
       "0          1672231500        1672334662                   71334   \n",
       "1          1671807902        1671812780                   39419   \n",
       "\n",
       "   reputation_change_quarter  reputation_change_month  reputation_change_week  \\\n",
       "0                      17764                     5339                     943   \n",
       "1                       9254                     2666                     400   \n",
       "\n",
       "   reputation_change_day  reputation  creation_date   user_type  user_id  \\\n",
       "0                    200     1376648     1222430705  registered    22656   \n",
       "1                     60     1221206     1326311637  registered  1144035   \n",
       "\n",
       "   accept_rate                 location                 website_url  \\\n",
       "0         86.0  Reading, United Kingdom    http://csharpindepth.com   \n",
       "1          NaN  New York, United States  http://www.data-miners.com   \n",
       "\n",
       "                                                link  \\\n",
       "0    https://stackoverflow.com/users/22656/jon-skeet   \n",
       "1  https://stackoverflow.com/users/1144035/gordon...   \n",
       "\n",
       "                                       profile_image   display_name  \n",
       "0  https://www.gravatar.com/avatar/6d8ebb117e8d83...      Jon Skeet  \n",
       "1  https://www.gravatar.com/avatar/e514b017977ebf...  Gordon Linoff  "
      ]
     },
     "execution_count": 52,
     "metadata": {},
     "output_type": "execute_result"
    }
   ],
   "source": [
    "users_df.head(2)"
   ]
  },
  {
   "cell_type": "markdown",
   "id": "fcc10e84",
   "metadata": {
    "heading_collapsed": true
   },
   "source": [
    "### Badges"
   ]
  },
  {
   "cell_type": "code",
   "execution_count": 14,
   "id": "a77d0c75",
   "metadata": {
    "ExecuteTime": {
     "end_time": "2022-12-29T20:37:42.860686Z",
     "start_time": "2022-12-29T20:37:42.638622Z"
    },
    "hidden": true
   },
   "outputs": [],
   "source": [
    "# badges = so.fetch(\"badges\")"
   ]
  },
  {
   "cell_type": "code",
   "execution_count": 21,
   "id": "03f8708c",
   "metadata": {
    "ExecuteTime": {
     "end_time": "2022-12-29T20:38:48.053978Z",
     "start_time": "2022-12-29T20:38:48.049039Z"
    },
    "hidden": true
   },
   "outputs": [
    {
     "data": {
      "text/plain": [
       "292"
      ]
     },
     "execution_count": 21,
     "metadata": {},
     "output_type": "execute_result"
    }
   ],
   "source": [
    "badges.get(\"quota_remaining\")"
   ]
  },
  {
   "cell_type": "code",
   "execution_count": 29,
   "id": "e5790593",
   "metadata": {
    "ExecuteTime": {
     "end_time": "2022-12-29T20:40:04.176177Z",
     "start_time": "2022-12-29T20:40:04.171318Z"
    },
    "hidden": true
   },
   "outputs": [],
   "source": [
    "badges_df = pd.DataFrame(badges.get(\"items\"))"
   ]
  },
  {
   "cell_type": "code",
   "execution_count": 33,
   "id": "9be8bb9d",
   "metadata": {
    "ExecuteTime": {
     "end_time": "2022-12-29T20:40:40.127621Z",
     "start_time": "2022-12-29T20:40:40.119509Z"
    },
    "hidden": true
   },
   "outputs": [
    {
     "data": {
      "text/html": [
       "<div>\n",
       "<style scoped>\n",
       "    .dataframe tbody tr th:only-of-type {\n",
       "        vertical-align: middle;\n",
       "    }\n",
       "\n",
       "    .dataframe tbody tr th {\n",
       "        vertical-align: top;\n",
       "    }\n",
       "\n",
       "    .dataframe thead th {\n",
       "        text-align: right;\n",
       "    }\n",
       "</style>\n",
       "<table border=\"1\" class=\"dataframe\">\n",
       "  <thead>\n",
       "    <tr style=\"text-align: right;\">\n",
       "      <th></th>\n",
       "      <th>badge_type</th>\n",
       "      <th>award_count</th>\n",
       "      <th>rank</th>\n",
       "      <th>badge_id</th>\n",
       "      <th>link</th>\n",
       "      <th>name</th>\n",
       "    </tr>\n",
       "  </thead>\n",
       "  <tbody>\n",
       "    <tr>\n",
       "      <th>0</th>\n",
       "      <td>tag_based</td>\n",
       "      <td>1</td>\n",
       "      <td>bronze</td>\n",
       "      <td>8009</td>\n",
       "      <td>https://stackoverflow.com/badges/8009/networkd3</td>\n",
       "      <td>networkd3</td>\n",
       "    </tr>\n",
       "    <tr>\n",
       "      <th>1</th>\n",
       "      <td>tag_based</td>\n",
       "      <td>39</td>\n",
       "      <td>bronze</td>\n",
       "      <td>885</td>\n",
       "      <td>https://stackoverflow.com/badges/885/networking</td>\n",
       "      <td>networking</td>\n",
       "    </tr>\n",
       "    <tr>\n",
       "      <th>2</th>\n",
       "      <td>tag_based</td>\n",
       "      <td>16</td>\n",
       "      <td>bronze</td>\n",
       "      <td>2377</td>\n",
       "      <td>https://stackoverflow.com/badges/2377/network-...</td>\n",
       "      <td>network-programming</td>\n",
       "    </tr>\n",
       "    <tr>\n",
       "      <th>3</th>\n",
       "      <td>tag_based</td>\n",
       "      <td>1</td>\n",
       "      <td>bronze</td>\n",
       "      <td>11117</td>\n",
       "      <td>https://stackoverflow.com/badges/11117/network...</td>\n",
       "      <td>networkstream</td>\n",
       "    </tr>\n",
       "    <tr>\n",
       "      <th>4</th>\n",
       "      <td>tag_based</td>\n",
       "      <td>12</td>\n",
       "      <td>bronze</td>\n",
       "      <td>2798</td>\n",
       "      <td>https://stackoverflow.com/badges/2798/networkx</td>\n",
       "      <td>networkx</td>\n",
       "    </tr>\n",
       "  </tbody>\n",
       "</table>\n",
       "</div>"
      ],
      "text/plain": [
       "  badge_type  award_count    rank  badge_id  \\\n",
       "0  tag_based            1  bronze      8009   \n",
       "1  tag_based           39  bronze       885   \n",
       "2  tag_based           16  bronze      2377   \n",
       "3  tag_based            1  bronze     11117   \n",
       "4  tag_based           12  bronze      2798   \n",
       "\n",
       "                                                link                 name  \n",
       "0    https://stackoverflow.com/badges/8009/networkd3            networkd3  \n",
       "1    https://stackoverflow.com/badges/885/networking           networking  \n",
       "2  https://stackoverflow.com/badges/2377/network-...  network-programming  \n",
       "3  https://stackoverflow.com/badges/11117/network...        networkstream  \n",
       "4     https://stackoverflow.com/badges/2798/networkx             networkx  "
      ]
     },
     "execution_count": 33,
     "metadata": {},
     "output_type": "execute_result"
    }
   ],
   "source": [
    "badges_df.head()"
   ]
  },
  {
   "cell_type": "code",
   "execution_count": 32,
   "id": "27ff65e2",
   "metadata": {
    "ExecuteTime": {
     "end_time": "2022-12-29T20:40:22.320086Z",
     "start_time": "2022-12-29T20:40:22.314555Z"
    },
    "hidden": true
   },
   "outputs": [
    {
     "data": {
      "text/plain": [
       "tag_based    100\n",
       "Name: badge_type, dtype: int64"
      ]
     },
     "execution_count": 32,
     "metadata": {},
     "output_type": "execute_result"
    }
   ],
   "source": [
    "badges_df.badge_type.value_counts()"
   ]
  },
  {
   "cell_type": "markdown",
   "id": "5139af0b",
   "metadata": {
    "heading_collapsed": true
   },
   "source": [
    "### Tag Badges"
   ]
  },
  {
   "cell_type": "code",
   "execution_count": 57,
   "id": "0ceeef79",
   "metadata": {
    "ExecuteTime": {
     "end_time": "2022-12-29T20:53:03.386638Z",
     "start_time": "2022-12-29T20:53:03.188214Z"
    },
    "hidden": true
   },
   "outputs": [],
   "source": [
    "# tag_badges = so.fetch(\"badges\", badge_type=\"tag_based\")\n",
    "# tag_badges = so.fetch(\"badges/tags\")"
   ]
  },
  {
   "cell_type": "code",
   "execution_count": 58,
   "id": "c60148fd",
   "metadata": {
    "ExecuteTime": {
     "end_time": "2022-12-29T20:53:04.161800Z",
     "start_time": "2022-12-29T20:53:04.157042Z"
    },
    "hidden": true
   },
   "outputs": [
    {
     "data": {
      "text/plain": [
       "284"
      ]
     },
     "execution_count": 58,
     "metadata": {},
     "output_type": "execute_result"
    }
   ],
   "source": [
    "tag_badges.get(\"quota_remaining\")"
   ]
  },
  {
   "cell_type": "code",
   "execution_count": 62,
   "id": "7bcd19be",
   "metadata": {
    "ExecuteTime": {
     "end_time": "2022-12-29T20:53:32.807312Z",
     "start_time": "2022-12-29T20:53:32.802651Z"
    },
    "hidden": true
   },
   "outputs": [],
   "source": [
    "tag_badges_df = pd.DataFrame(tag_badges.get(\"items\"))"
   ]
  },
  {
   "cell_type": "code",
   "execution_count": 64,
   "id": "42b3a63b",
   "metadata": {
    "ExecuteTime": {
     "end_time": "2022-12-29T20:53:41.477783Z",
     "start_time": "2022-12-29T20:53:41.474289Z"
    },
    "hidden": true
   },
   "outputs": [
    {
     "name": "stdout",
     "output_type": "stream",
     "text": [
      "https://stackoverflow.com/badges/10836/nearest-neighbor\n"
     ]
    }
   ],
   "source": [
    "print(tag_badges_df.link.sample().to_numpy()[0])"
   ]
  },
  {
   "cell_type": "code",
   "execution_count": 73,
   "id": "4ff123f5",
   "metadata": {
    "ExecuteTime": {
     "end_time": "2022-12-29T21:08:08.647067Z",
     "start_time": "2022-12-29T21:08:08.637096Z"
    },
    "hidden": true
   },
   "outputs": [
    {
     "data": {
      "text/html": [
       "<div>\n",
       "<style scoped>\n",
       "    .dataframe tbody tr th:only-of-type {\n",
       "        vertical-align: middle;\n",
       "    }\n",
       "\n",
       "    .dataframe tbody tr th {\n",
       "        vertical-align: top;\n",
       "    }\n",
       "\n",
       "    .dataframe thead th {\n",
       "        text-align: right;\n",
       "    }\n",
       "</style>\n",
       "<table border=\"1\" class=\"dataframe\">\n",
       "  <thead>\n",
       "    <tr style=\"text-align: right;\">\n",
       "      <th></th>\n",
       "      <th>badge_type</th>\n",
       "      <th>award_count</th>\n",
       "      <th>rank</th>\n",
       "      <th>badge_id</th>\n",
       "      <th>link</th>\n",
       "      <th>name</th>\n",
       "    </tr>\n",
       "  </thead>\n",
       "  <tbody>\n",
       "    <tr>\n",
       "      <th>0</th>\n",
       "      <td>tag_based</td>\n",
       "      <td>1</td>\n",
       "      <td>bronze</td>\n",
       "      <td>6440</td>\n",
       "      <td>https://stackoverflow.com/badges/6440/n-gram</td>\n",
       "      <td>n-gram</td>\n",
       "    </tr>\n",
       "    <tr>\n",
       "      <th>1</th>\n",
       "      <td>tag_based</td>\n",
       "      <td>1</td>\n",
       "      <td>bronze</td>\n",
       "      <td>6140</td>\n",
       "      <td>https://stackoverflow.com/badges/6140/ng-repeat</td>\n",
       "      <td>ng-repeat</td>\n",
       "    </tr>\n",
       "    <tr>\n",
       "      <th>2</th>\n",
       "      <td>tag_based</td>\n",
       "      <td>1</td>\n",
       "      <td>bronze</td>\n",
       "      <td>9296</td>\n",
       "      <td>https://stackoverflow.com/badges/9296/ngroute</td>\n",
       "      <td>ngroute</td>\n",
       "    </tr>\n",
       "    <tr>\n",
       "      <th>3</th>\n",
       "      <td>tag_based</td>\n",
       "      <td>6</td>\n",
       "      <td>bronze</td>\n",
       "      <td>6944</td>\n",
       "      <td>https://stackoverflow.com/badges/6944/ngrx</td>\n",
       "      <td>ngrx</td>\n",
       "    </tr>\n",
       "    <tr>\n",
       "      <th>4</th>\n",
       "      <td>tag_based</td>\n",
       "      <td>1</td>\n",
       "      <td>bronze</td>\n",
       "      <td>9542</td>\n",
       "      <td>https://stackoverflow.com/badges/9542/ngrx-eff...</td>\n",
       "      <td>ngrx-effects</td>\n",
       "    </tr>\n",
       "  </tbody>\n",
       "</table>\n",
       "</div>"
      ],
      "text/plain": [
       "  badge_type  award_count    rank  badge_id  \\\n",
       "0  tag_based            1  bronze      6440   \n",
       "1  tag_based            1  bronze      6140   \n",
       "2  tag_based            1  bronze      9296   \n",
       "3  tag_based            6  bronze      6944   \n",
       "4  tag_based            1  bronze      9542   \n",
       "\n",
       "                                                link          name  \n",
       "0       https://stackoverflow.com/badges/6440/n-gram        n-gram  \n",
       "1    https://stackoverflow.com/badges/6140/ng-repeat     ng-repeat  \n",
       "2      https://stackoverflow.com/badges/9296/ngroute       ngroute  \n",
       "3         https://stackoverflow.com/badges/6944/ngrx          ngrx  \n",
       "4  https://stackoverflow.com/badges/9542/ngrx-eff...  ngrx-effects  "
      ]
     },
     "execution_count": 73,
     "metadata": {},
     "output_type": "execute_result"
    }
   ],
   "source": [
    "tag_badges_df.head()"
   ]
  },
  {
   "cell_type": "markdown",
   "id": "590d3145",
   "metadata": {
    "heading_collapsed": true
   },
   "source": [
    "### Me"
   ]
  },
  {
   "cell_type": "code",
   "execution_count": 67,
   "id": "7c7b3ada",
   "metadata": {
    "ExecuteTime": {
     "end_time": "2022-12-29T20:58:58.050859Z",
     "start_time": "2022-12-29T20:58:57.840921Z"
    },
    "hidden": true
   },
   "outputs": [],
   "source": [
    "# me = so.fetch(\"users/{ids}\", ids=[me_id])"
   ]
  },
  {
   "cell_type": "code",
   "execution_count": 68,
   "id": "27240916",
   "metadata": {
    "ExecuteTime": {
     "end_time": "2022-12-29T20:58:59.453119Z",
     "start_time": "2022-12-29T20:58:59.447641Z"
    },
    "hidden": true
   },
   "outputs": [
    {
     "data": {
      "text/plain": [
       "{'backoff': 0,\n",
       " 'has_more': False,\n",
       " 'page': 1,\n",
       " 'quota_max': 300,\n",
       " 'quota_remaining': 283,\n",
       " 'total': 0,\n",
       " 'items': [{'badge_counts': {'bronze': 29, 'silver': 16, 'gold': 1},\n",
       "   'account_id': 8698988,\n",
       "   'is_employee': False,\n",
       "   'last_modified_date': 1669311300,\n",
       "   'last_access_date': 1672347529,\n",
       "   'reputation_change_year': 713,\n",
       "   'reputation_change_quarter': 503,\n",
       "   'reputation_change_month': 483,\n",
       "   'reputation_change_week': 0,\n",
       "   'reputation_change_day': 0,\n",
       "   'reputation': 2539,\n",
       "   'creation_date': 1466780003,\n",
       "   'user_type': 'registered',\n",
       "   'user_id': 6509519,\n",
       "   'location': 'Kansas City, MO, United States',\n",
       "   'website_url': '',\n",
       "   'link': 'https://stackoverflow.com/users/6509519/ian-thompson',\n",
       "   'profile_image': 'https://i.stack.imgur.com/xEcoP.jpg?s=256&g=1',\n",
       "   'display_name': 'Ian Thompson'}]}"
      ]
     },
     "execution_count": 68,
     "metadata": {},
     "output_type": "execute_result"
    }
   ],
   "source": [
    "me"
   ]
  },
  {
   "cell_type": "code",
   "execution_count": 69,
   "id": "748c63cc",
   "metadata": {
    "ExecuteTime": {
     "end_time": "2022-12-29T20:59:06.304079Z",
     "start_time": "2022-12-29T20:59:06.299935Z"
    },
    "hidden": true
   },
   "outputs": [
    {
     "data": {
      "text/plain": [
       "283"
      ]
     },
     "execution_count": 69,
     "metadata": {},
     "output_type": "execute_result"
    }
   ],
   "source": [
    "me.get(\"quota_remaining\")"
   ]
  },
  {
   "cell_type": "code",
   "execution_count": 70,
   "id": "71fbc9e4",
   "metadata": {
    "ExecuteTime": {
     "end_time": "2022-12-29T20:59:16.528720Z",
     "start_time": "2022-12-29T20:59:16.524126Z"
    },
    "hidden": true
   },
   "outputs": [],
   "source": [
    "me_df = pd.DataFrame(me.get(\"items\"))"
   ]
  },
  {
   "cell_type": "code",
   "execution_count": 72,
   "id": "14359550",
   "metadata": {
    "ExecuteTime": {
     "end_time": "2022-12-29T20:59:21.130757Z",
     "start_time": "2022-12-29T20:59:21.120467Z"
    },
    "hidden": true,
    "scrolled": true
   },
   "outputs": [
    {
     "data": {
      "text/html": [
       "<div>\n",
       "<style scoped>\n",
       "    .dataframe tbody tr th:only-of-type {\n",
       "        vertical-align: middle;\n",
       "    }\n",
       "\n",
       "    .dataframe tbody tr th {\n",
       "        vertical-align: top;\n",
       "    }\n",
       "\n",
       "    .dataframe thead th {\n",
       "        text-align: right;\n",
       "    }\n",
       "</style>\n",
       "<table border=\"1\" class=\"dataframe\">\n",
       "  <thead>\n",
       "    <tr style=\"text-align: right;\">\n",
       "      <th></th>\n",
       "      <th>badge_counts</th>\n",
       "      <th>account_id</th>\n",
       "      <th>is_employee</th>\n",
       "      <th>last_modified_date</th>\n",
       "      <th>last_access_date</th>\n",
       "      <th>reputation_change_year</th>\n",
       "      <th>reputation_change_quarter</th>\n",
       "      <th>reputation_change_month</th>\n",
       "      <th>reputation_change_week</th>\n",
       "      <th>reputation_change_day</th>\n",
       "      <th>reputation</th>\n",
       "      <th>creation_date</th>\n",
       "      <th>user_type</th>\n",
       "      <th>user_id</th>\n",
       "      <th>location</th>\n",
       "      <th>website_url</th>\n",
       "      <th>link</th>\n",
       "      <th>profile_image</th>\n",
       "      <th>display_name</th>\n",
       "    </tr>\n",
       "  </thead>\n",
       "  <tbody>\n",
       "    <tr>\n",
       "      <th>0</th>\n",
       "      <td>{'bronze': 29, 'silver': 16, 'gold': 1}</td>\n",
       "      <td>8698988</td>\n",
       "      <td>False</td>\n",
       "      <td>1669311300</td>\n",
       "      <td>1672347529</td>\n",
       "      <td>713</td>\n",
       "      <td>503</td>\n",
       "      <td>483</td>\n",
       "      <td>0</td>\n",
       "      <td>0</td>\n",
       "      <td>2539</td>\n",
       "      <td>1466780003</td>\n",
       "      <td>registered</td>\n",
       "      <td>6509519</td>\n",
       "      <td>Kansas City, MO, United States</td>\n",
       "      <td></td>\n",
       "      <td>https://stackoverflow.com/users/6509519/ian-th...</td>\n",
       "      <td>https://i.stack.imgur.com/xEcoP.jpg?s=256&amp;g=1</td>\n",
       "      <td>Ian Thompson</td>\n",
       "    </tr>\n",
       "  </tbody>\n",
       "</table>\n",
       "</div>"
      ],
      "text/plain": [
       "                              badge_counts  account_id  is_employee  \\\n",
       "0  {'bronze': 29, 'silver': 16, 'gold': 1}     8698988        False   \n",
       "\n",
       "   last_modified_date  last_access_date  reputation_change_year  \\\n",
       "0          1669311300        1672347529                     713   \n",
       "\n",
       "   reputation_change_quarter  reputation_change_month  reputation_change_week  \\\n",
       "0                        503                      483                       0   \n",
       "\n",
       "   reputation_change_day  reputation  creation_date   user_type  user_id  \\\n",
       "0                      0        2539     1466780003  registered  6509519   \n",
       "\n",
       "                         location website_url  \\\n",
       "0  Kansas City, MO, United States               \n",
       "\n",
       "                                                link  \\\n",
       "0  https://stackoverflow.com/users/6509519/ian-th...   \n",
       "\n",
       "                                   profile_image  display_name  \n",
       "0  https://i.stack.imgur.com/xEcoP.jpg?s=256&g=1  Ian Thompson  "
      ]
     },
     "execution_count": 72,
     "metadata": {},
     "output_type": "execute_result"
    }
   ],
   "source": [
    "me_df"
   ]
  },
  {
   "cell_type": "markdown",
   "id": "50aec247",
   "metadata": {
    "heading_collapsed": true
   },
   "source": [
    "### Bronze Python Recipients"
   ]
  },
  {
   "cell_type": "code",
   "execution_count": 74,
   "id": "b1548276",
   "metadata": {
    "ExecuteTime": {
     "end_time": "2022-12-29T21:08:53.381177Z",
     "start_time": "2022-12-29T21:08:53.153403Z"
    },
    "hidden": true
   },
   "outputs": [],
   "source": [
    "# bronze_python = so.fetch(\"badges/{ids}/recipients\", ids=[267])"
   ]
  },
  {
   "cell_type": "code",
   "execution_count": 75,
   "id": "1c4e1818",
   "metadata": {
    "ExecuteTime": {
     "end_time": "2022-12-29T21:08:58.397164Z",
     "start_time": "2022-12-29T21:08:58.392058Z"
    },
    "hidden": true
   },
   "outputs": [
    {
     "data": {
      "text/plain": [
       "255"
      ]
     },
     "execution_count": 75,
     "metadata": {},
     "output_type": "execute_result"
    }
   ],
   "source": [
    "bronze_python.get(\"quota_remaining\")"
   ]
  },
  {
   "cell_type": "code",
   "execution_count": 76,
   "id": "17551f11",
   "metadata": {
    "ExecuteTime": {
     "end_time": "2022-12-29T21:09:13.970331Z",
     "start_time": "2022-12-29T21:09:13.966087Z"
    },
    "hidden": true
   },
   "outputs": [],
   "source": [
    "bronze_python_df = pd.DataFrame(bronze_python.get(\"items\"))"
   ]
  },
  {
   "cell_type": "code",
   "execution_count": 80,
   "id": "f5ebf826",
   "metadata": {
    "ExecuteTime": {
     "end_time": "2022-12-29T21:10:20.687132Z",
     "start_time": "2022-12-29T21:10:20.654174Z"
    },
    "hidden": true
   },
   "outputs": [
    {
     "data": {
      "text/plain": [
       "count       100.000000\n",
       "mean       5960.830000\n",
       "std       12855.868588\n",
       "min        1236.000000\n",
       "25%        2074.750000\n",
       "50%        2948.500000\n",
       "75%        4329.750000\n",
       "max      115625.000000\n",
       "Name: reputation, dtype: float64"
      ]
     },
     "execution_count": 80,
     "metadata": {},
     "output_type": "execute_result"
    }
   ],
   "source": [
    "bronze_python_df[\"user\"].apply(pd.Series)[\"reputation\"].describe()"
   ]
  },
  {
   "cell_type": "code",
   "execution_count": 85,
   "id": "4bd91b17",
   "metadata": {
    "ExecuteTime": {
     "end_time": "2022-12-29T21:11:48.621645Z",
     "start_time": "2022-12-29T21:11:48.449454Z"
    },
    "hidden": true
   },
   "outputs": [
    {
     "data": {
      "text/plain": [
       "<AxesSubplot: ylabel='Frequency'>"
      ]
     },
     "execution_count": 85,
     "metadata": {},
     "output_type": "execute_result"
    },
    {
     "data": {
      "image/png": "[encoded data removed]",
      "text/plain": [
       "<Figure size 640x480 with 1 Axes>"
      ]
     },
     "metadata": {},
     "output_type": "display_data"
    }
   ],
   "source": [
    "bronze_python_df[\"user\"].apply(pd.Series)[\"reputation\"].plot.hist()"
   ]
  },
  {
   "cell_type": "markdown",
   "id": "29bbc55e",
   "metadata": {
    "heading_collapsed": true
   },
   "source": [
    "### My Tag Badges"
   ]
  },
  {
   "cell_type": "code",
   "execution_count": 102,
   "id": "d6831f82",
   "metadata": {
    "ExecuteTime": {
     "end_time": "2022-12-29T21:19:13.933062Z",
     "start_time": "2022-12-29T21:19:13.746616Z"
    },
    "hidden": true
   },
   "outputs": [],
   "source": [
    "me_badges = so.fetch(\"users/{ids}/badges\", ids=[me_id], min=\"tag_based\", sort=\"type\")"
   ]
  },
  {
   "cell_type": "code",
   "execution_count": 104,
   "id": "55346c84",
   "metadata": {
    "ExecuteTime": {
     "end_time": "2022-12-29T21:19:16.036541Z",
     "start_time": "2022-12-29T21:19:16.032483Z"
    },
    "hidden": true
   },
   "outputs": [
    {
     "data": {
      "text/plain": [
       "240"
      ]
     },
     "execution_count": 104,
     "metadata": {},
     "output_type": "execute_result"
    }
   ],
   "source": [
    "me_badges.get(\"quota_remaining\")"
   ]
  },
  {
   "cell_type": "code",
   "execution_count": 105,
   "id": "878708a4",
   "metadata": {
    "ExecuteTime": {
     "end_time": "2022-12-29T21:19:17.381733Z",
     "start_time": "2022-12-29T21:19:17.378121Z"
    },
    "hidden": true
   },
   "outputs": [],
   "source": [
    "me_badges_df = pd.DataFrame(me_badges.get(\"items\"))"
   ]
  },
  {
   "cell_type": "code",
   "execution_count": 106,
   "id": "cecff7a4",
   "metadata": {
    "ExecuteTime": {
     "end_time": "2022-12-29T21:19:17.602815Z",
     "start_time": "2022-12-29T21:19:17.594420Z"
    },
    "hidden": true
   },
   "outputs": [
    {
     "data": {
      "text/html": [
       "<div>\n",
       "<style scoped>\n",
       "    .dataframe tbody tr th:only-of-type {\n",
       "        vertical-align: middle;\n",
       "    }\n",
       "\n",
       "    .dataframe tbody tr th {\n",
       "        vertical-align: top;\n",
       "    }\n",
       "\n",
       "    .dataframe thead th {\n",
       "        text-align: right;\n",
       "    }\n",
       "</style>\n",
       "<table border=\"1\" class=\"dataframe\">\n",
       "  <thead>\n",
       "    <tr style=\"text-align: right;\">\n",
       "      <th></th>\n",
       "      <th>user</th>\n",
       "      <th>badge_type</th>\n",
       "      <th>award_count</th>\n",
       "      <th>rank</th>\n",
       "      <th>badge_id</th>\n",
       "      <th>link</th>\n",
       "      <th>name</th>\n",
       "    </tr>\n",
       "  </thead>\n",
       "  <tbody>\n",
       "    <tr>\n",
       "      <th>0</th>\n",
       "      <td>{'reputation': 2539, 'user_id': 6509519, 'user...</td>\n",
       "      <td>tag_based</td>\n",
       "      <td>1</td>\n",
       "      <td>bronze</td>\n",
       "      <td>267</td>\n",
       "      <td>https://stackoverflow.com/badges/267/python</td>\n",
       "      <td>python</td>\n",
       "    </tr>\n",
       "    <tr>\n",
       "      <th>1</th>\n",
       "      <td>{'reputation': 2539, 'user_id': 6509519, 'user...</td>\n",
       "      <td>tag_based</td>\n",
       "      <td>1</td>\n",
       "      <td>bronze</td>\n",
       "      <td>1914</td>\n",
       "      <td>https://stackoverflow.com/badges/1914/pandas</td>\n",
       "      <td>pandas</td>\n",
       "    </tr>\n",
       "  </tbody>\n",
       "</table>\n",
       "</div>"
      ],
      "text/plain": [
       "                                                user badge_type  award_count  \\\n",
       "0  {'reputation': 2539, 'user_id': 6509519, 'user...  tag_based            1   \n",
       "1  {'reputation': 2539, 'user_id': 6509519, 'user...  tag_based            1   \n",
       "\n",
       "     rank  badge_id                                          link    name  \n",
       "0  bronze       267   https://stackoverflow.com/badges/267/python  python  \n",
       "1  bronze      1914  https://stackoverflow.com/badges/1914/pandas  pandas  "
      ]
     },
     "execution_count": 106,
     "metadata": {},
     "output_type": "execute_result"
    }
   ],
   "source": [
    "me_badges_df"
   ]
  },
  {
   "cell_type": "code",
   "execution_count": 119,
   "id": "e82cc927",
   "metadata": {
    "ExecuteTime": {
     "end_time": "2022-12-29T21:20:50.215970Z",
     "start_time": "2022-12-29T21:20:50.208083Z"
    },
    "hidden": true
   },
   "outputs": [
    {
     "data": {
      "text/html": [
       "<div>\n",
       "<style scoped>\n",
       "    .dataframe tbody tr th:only-of-type {\n",
       "        vertical-align: middle;\n",
       "    }\n",
       "\n",
       "    .dataframe tbody tr th {\n",
       "        vertical-align: top;\n",
       "    }\n",
       "\n",
       "    .dataframe thead th {\n",
       "        text-align: right;\n",
       "    }\n",
       "</style>\n",
       "<table border=\"1\" class=\"dataframe\">\n",
       "  <thead>\n",
       "    <tr style=\"text-align: right;\">\n",
       "      <th></th>\n",
       "      <th>reputation</th>\n",
       "      <th>user_id</th>\n",
       "      <th>user_type</th>\n",
       "      <th>profile_image</th>\n",
       "      <th>display_name</th>\n",
       "      <th>link</th>\n",
       "    </tr>\n",
       "  </thead>\n",
       "  <tbody>\n",
       "    <tr>\n",
       "      <th>0</th>\n",
       "      <td>2539</td>\n",
       "      <td>6509519</td>\n",
       "      <td>registered</td>\n",
       "      <td>https://i.stack.imgur.com/xEcoP.jpg?s=256&amp;g=1</td>\n",
       "      <td>Ian Thompson</td>\n",
       "      <td>https://stackoverflow.com/users/6509519/ian-th...</td>\n",
       "    </tr>\n",
       "    <tr>\n",
       "      <th>1</th>\n",
       "      <td>2539</td>\n",
       "      <td>6509519</td>\n",
       "      <td>registered</td>\n",
       "      <td>https://i.stack.imgur.com/xEcoP.jpg?s=256&amp;g=1</td>\n",
       "      <td>Ian Thompson</td>\n",
       "      <td>https://stackoverflow.com/users/6509519/ian-th...</td>\n",
       "    </tr>\n",
       "  </tbody>\n",
       "</table>\n",
       "</div>"
      ],
      "text/plain": [
       "   reputation  user_id   user_type  \\\n",
       "0        2539  6509519  registered   \n",
       "1        2539  6509519  registered   \n",
       "\n",
       "                                   profile_image  display_name  \\\n",
       "0  https://i.stack.imgur.com/xEcoP.jpg?s=256&g=1  Ian Thompson   \n",
       "1  https://i.stack.imgur.com/xEcoP.jpg?s=256&g=1  Ian Thompson   \n",
       "\n",
       "                                                link  \n",
       "0  https://stackoverflow.com/users/6509519/ian-th...  \n",
       "1  https://stackoverflow.com/users/6509519/ian-th...  "
      ]
     },
     "execution_count": 119,
     "metadata": {},
     "output_type": "execute_result"
    }
   ],
   "source": [
    "pd.DataFrame(me_badges_df[\"user\"].to_list())"
   ]
  },
  {
   "cell_type": "markdown",
   "id": "52bf7b3d",
   "metadata": {
    "heading_collapsed": true
   },
   "source": [
    "### My Reputation"
   ]
  },
  {
   "cell_type": "code",
   "execution_count": 120,
   "id": "d719178f",
   "metadata": {
    "ExecuteTime": {
     "end_time": "2022-12-29T21:22:17.771819Z",
     "start_time": "2022-12-29T21:22:17.464173Z"
    },
    "hidden": true
   },
   "outputs": [],
   "source": [
    "me_rep = so.fetch(\"users/{ids}/reputation\", ids=[me_id])"
   ]
  },
  {
   "cell_type": "code",
   "execution_count": 122,
   "id": "a5e7edfe",
   "metadata": {
    "ExecuteTime": {
     "end_time": "2022-12-29T21:22:47.895417Z",
     "start_time": "2022-12-29T21:22:47.890534Z"
    },
    "hidden": true
   },
   "outputs": [
    {
     "data": {
      "text/plain": [
       "239"
      ]
     },
     "execution_count": 122,
     "metadata": {},
     "output_type": "execute_result"
    }
   ],
   "source": [
    "me_rep.get(\"quota_remaining\")"
   ]
  },
  {
   "cell_type": "code",
   "execution_count": 123,
   "id": "5cea82f2",
   "metadata": {
    "ExecuteTime": {
     "end_time": "2022-12-29T21:22:57.345682Z",
     "start_time": "2022-12-29T21:22:57.341941Z"
    },
    "hidden": true
   },
   "outputs": [],
   "source": [
    "me_rep_df = pd.DataFrame(me_rep.get(\"items\"))"
   ]
  },
  {
   "cell_type": "code",
   "execution_count": 127,
   "id": "b45438a0",
   "metadata": {
    "ExecuteTime": {
     "end_time": "2022-12-29T21:23:20.186270Z",
     "start_time": "2022-12-29T21:23:20.178350Z"
    },
    "hidden": true
   },
   "outputs": [
    {
     "data": {
      "text/html": [
       "<div>\n",
       "<style scoped>\n",
       "    .dataframe tbody tr th:only-of-type {\n",
       "        vertical-align: middle;\n",
       "    }\n",
       "\n",
       "    .dataframe tbody tr th {\n",
       "        vertical-align: top;\n",
       "    }\n",
       "\n",
       "    .dataframe thead th {\n",
       "        text-align: right;\n",
       "    }\n",
       "</style>\n",
       "<table border=\"1\" class=\"dataframe\">\n",
       "  <thead>\n",
       "    <tr style=\"text-align: right;\">\n",
       "      <th></th>\n",
       "      <th>on_date</th>\n",
       "      <th>reputation_change</th>\n",
       "      <th>vote_type</th>\n",
       "      <th>post_type</th>\n",
       "      <th>post_id</th>\n",
       "      <th>user_id</th>\n",
       "    </tr>\n",
       "  </thead>\n",
       "  <tbody>\n",
       "    <tr>\n",
       "      <th>0</th>\n",
       "      <td>1671805221</td>\n",
       "      <td>15</td>\n",
       "      <td>accepts</td>\n",
       "      <td>answer</td>\n",
       "      <td>74891230</td>\n",
       "      <td>6509519</td>\n",
       "    </tr>\n",
       "    <tr>\n",
       "      <th>1</th>\n",
       "      <td>1671805075</td>\n",
       "      <td>10</td>\n",
       "      <td>up_votes</td>\n",
       "      <td>answer</td>\n",
       "      <td>74891230</td>\n",
       "      <td>6509519</td>\n",
       "    </tr>\n",
       "    <tr>\n",
       "      <th>2</th>\n",
       "      <td>1671752093</td>\n",
       "      <td>15</td>\n",
       "      <td>accepts</td>\n",
       "      <td>answer</td>\n",
       "      <td>74893211</td>\n",
       "      <td>6509519</td>\n",
       "    </tr>\n",
       "    <tr>\n",
       "      <th>3</th>\n",
       "      <td>1671748623</td>\n",
       "      <td>50</td>\n",
       "      <td>up_votes</td>\n",
       "      <td>answer</td>\n",
       "      <td>44976660</td>\n",
       "      <td>6509519</td>\n",
       "    </tr>\n",
       "    <tr>\n",
       "      <th>4</th>\n",
       "      <td>1671748587</td>\n",
       "      <td>60</td>\n",
       "      <td>up_votes</td>\n",
       "      <td>question</td>\n",
       "      <td>58457181</td>\n",
       "      <td>6509519</td>\n",
       "    </tr>\n",
       "  </tbody>\n",
       "</table>\n",
       "</div>"
      ],
      "text/plain": [
       "      on_date  reputation_change vote_type post_type   post_id  user_id\n",
       "0  1671805221                 15   accepts    answer  74891230  6509519\n",
       "1  1671805075                 10  up_votes    answer  74891230  6509519\n",
       "2  1671752093                 15   accepts    answer  74893211  6509519\n",
       "3  1671748623                 50  up_votes    answer  44976660  6509519\n",
       "4  1671748587                 60  up_votes  question  58457181  6509519"
      ]
     },
     "execution_count": 127,
     "metadata": {},
     "output_type": "execute_result"
    }
   ],
   "source": [
    "me_rep_df.head()"
   ]
  },
  {
   "cell_type": "code",
   "execution_count": 126,
   "id": "6280322d",
   "metadata": {
    "ExecuteTime": {
     "end_time": "2022-12-29T21:23:12.292623Z",
     "start_time": "2022-12-29T21:23:12.287509Z"
    },
    "hidden": true
   },
   "outputs": [
    {
     "data": {
      "text/plain": [
       "1513"
      ]
     },
     "execution_count": 126,
     "metadata": {},
     "output_type": "execute_result"
    }
   ],
   "source": [
    "me_rep_df.reputation_change.sum()"
   ]
  },
  {
   "cell_type": "markdown",
   "id": "259e8d0e",
   "metadata": {},
   "source": [
    "## 2. Rookies<a id='2'></a>"
   ]
  },
  {
   "cell_type": "code",
   "execution_count": 213,
   "id": "8064ef7e",
   "metadata": {},
   "outputs": [],
   "source": [
    "# extract user information \n",
    "SITE = StackAPI('stackoverflow')\n",
    "# SITE.page_size = 5 # limits to 5 returned results for demo purpose\n",
    "SITE.max_pages = 5\n",
    "\n",
    "# the date is specified to locate rookies that are more likely to have only one badge.\n",
    "users = SITE.fetch('users',fromdate=datetime(2022,1,1), todate=datetime(2022,6,30))"
   ]
  },
  {
   "cell_type": "code",
   "execution_count": 317,
   "id": "54187882",
   "metadata": {},
   "outputs": [
    {
     "name": "stdout",
     "output_type": "stream",
     "text": [
      "<class 'pandas.core.frame.DataFrame'>\n",
      "RangeIndex: 2500 entries, 0 to 2499\n",
      "Data columns (total 10 columns):\n",
      " #   Column                Non-Null Count  Dtype  \n",
      "---  ------                --------------  -----  \n",
      " 0   owner                 2500 non-null   object \n",
      " 1   is_accepted           2500 non-null   bool   \n",
      " 2   score                 2500 non-null   int64  \n",
      " 3   last_activity_date    2500 non-null   int64  \n",
      " 4   creation_date         2500 non-null   int64  \n",
      " 5   answer_id             2500 non-null   int64  \n",
      " 6   question_id           2500 non-null   int64  \n",
      " 7   content_license       2500 non-null   object \n",
      " 8   last_edit_date        716 non-null    float64\n",
      " 9   community_owned_date  5 non-null      float64\n",
      "dtypes: bool(1), float64(2), int64(5), object(2)\n",
      "memory usage: 178.3+ KB\n"
     ]
    }
   ],
   "source": [
    "answers = SITE.fetch('answers')\n",
    "answers_info = pd.DataFrame(answers['items'])\n",
    "answers_info.info()"
   ]
  },
  {
   "cell_type": "code",
   "execution_count": 236,
   "id": "739c2c1a",
   "metadata": {},
   "outputs": [
    {
     "name": "stdout",
     "output_type": "stream",
     "text": [
      "<class 'pandas.core.frame.DataFrame'>\n",
      "RangeIndex: 2500 entries, 0 to 2499\n",
      "Data columns (total 19 columns):\n",
      " #   Column                     Non-Null Count  Dtype  \n",
      "---  ------                     --------------  -----  \n",
      " 0   badge_counts               2500 non-null   object \n",
      " 1   account_id                 2500 non-null   int64  \n",
      " 2   is_employee                2500 non-null   bool   \n",
      " 3   last_modified_date         2229 non-null   float64\n",
      " 4   last_access_date           2500 non-null   int64  \n",
      " 5   reputation_change_year     2500 non-null   int64  \n",
      " 6   reputation_change_quarter  2500 non-null   int64  \n",
      " 7   reputation_change_month    2500 non-null   int64  \n",
      " 8   reputation_change_week     2500 non-null   int64  \n",
      " 9   reputation_change_day      2500 non-null   int64  \n",
      " 10  reputation                 2500 non-null   int64  \n",
      " 11  creation_date              2500 non-null   int64  \n",
      " 12  user_type                  2500 non-null   object \n",
      " 13  user_id                    2500 non-null   int64  \n",
      " 14  website_url                1325 non-null   object \n",
      " 15  link                       2500 non-null   object \n",
      " 16  profile_image              2500 non-null   object \n",
      " 17  display_name               2500 non-null   object \n",
      " 18  location                   734 non-null    object \n",
      "dtypes: bool(1), float64(1), int64(10), object(7)\n",
      "memory usage: 354.1+ KB\n"
     ]
    }
   ],
   "source": [
    "user_info = pd.DataFrame(users['items'])\n",
    "user_info.info()"
   ]
  },
  {
   "cell_type": "code",
   "execution_count": 237,
   "id": "5f8663d8",
   "metadata": {},
   "outputs": [],
   "source": [
    "# Extract helpful information\n",
    "user_info = user_info.drop(columns=['is_employee', 'last_modified_date', 'last_access_date', 'user_type', 'user_id', 'website_url', 'link', 'profile_image', 'display_name'])"
   ]
  },
  {
   "cell_type": "code",
   "execution_count": 238,
   "id": "3031e23f",
   "metadata": {},
   "outputs": [
    {
     "data": {
      "text/plain": [
       "{'bronze': 36, 'silver': 10, 'gold': 5}"
      ]
     },
     "execution_count": 238,
     "metadata": {},
     "output_type": "execute_result"
    }
   ],
   "source": [
    "# review badge info\n",
    "user_info['badge_counts'][0]"
   ]
  },
  {
   "cell_type": "code",
   "execution_count": 239,
   "id": "e3d59213",
   "metadata": {},
   "outputs": [
    {
     "data": {
      "text/html": [
       "<div>\n",
       "<style scoped>\n",
       "    .dataframe tbody tr th:only-of-type {\n",
       "        vertical-align: middle;\n",
       "    }\n",
       "\n",
       "    .dataframe tbody tr th {\n",
       "        vertical-align: top;\n",
       "    }\n",
       "\n",
       "    .dataframe thead th {\n",
       "        text-align: right;\n",
       "    }\n",
       "</style>\n",
       "<table border=\"1\" class=\"dataframe\">\n",
       "  <thead>\n",
       "    <tr style=\"text-align: right;\">\n",
       "      <th></th>\n",
       "      <th>bronze</th>\n",
       "      <th>silver</th>\n",
       "      <th>gold</th>\n",
       "    </tr>\n",
       "  </thead>\n",
       "  <tbody>\n",
       "    <tr>\n",
       "      <th>0</th>\n",
       "      <td>36</td>\n",
       "      <td>10</td>\n",
       "      <td>5</td>\n",
       "    </tr>\n",
       "    <tr>\n",
       "      <th>1</th>\n",
       "      <td>41</td>\n",
       "      <td>13</td>\n",
       "      <td>2</td>\n",
       "    </tr>\n",
       "    <tr>\n",
       "      <th>2</th>\n",
       "      <td>28</td>\n",
       "      <td>11</td>\n",
       "      <td>5</td>\n",
       "    </tr>\n",
       "    <tr>\n",
       "      <th>3</th>\n",
       "      <td>42</td>\n",
       "      <td>21</td>\n",
       "      <td>3</td>\n",
       "    </tr>\n",
       "    <tr>\n",
       "      <th>4</th>\n",
       "      <td>29</td>\n",
       "      <td>6</td>\n",
       "      <td>2</td>\n",
       "    </tr>\n",
       "  </tbody>\n",
       "</table>\n",
       "</div>"
      ],
      "text/plain": [
       "  bronze silver gold\n",
       "0     36     10    5\n",
       "1     41     13    2\n",
       "2     28     11    5\n",
       "3     42     21    3\n",
       "4     29      6    2"
      ]
     },
     "execution_count": 239,
     "metadata": {},
     "output_type": "execute_result"
    }
   ],
   "source": [
    "# separate badge info\n",
    "badge = user_info['badge_counts']\n",
    "badge_count = pd.DataFrame(columns=['bronze', 'silver', 'gold'])\n",
    "for i in range(len(badge)):\n",
    "    badge_count=pd.concat([badge_count, pd.DataFrame(pd.Series(badge[i])).T], axis=0)\n",
    "badge_count = badge_count.reset_index().drop(columns='index')\n",
    "badge_count.head()"
   ]
  },
  {
   "cell_type": "code",
   "execution_count": 240,
   "id": "605f361f",
   "metadata": {},
   "outputs": [],
   "source": [
    "badge_count['bronze'] = pd.to_numeric(badge_count['bronze'])\n",
    "badge_count['silver'] = pd.to_numeric(badge_count['silver'])\n",
    "badge_count['gold'] = pd.to_numeric(badge_count['gold'])"
   ]
  },
  {
   "cell_type": "code",
   "execution_count": 241,
   "id": "78b5c6c2",
   "metadata": {},
   "outputs": [],
   "source": [
    "# Calculate total badges of users\n",
    "user_info = pd.concat([user_info, badge_count], axis=1).drop(columns='badge_counts')\n",
    "user_info['badge_total'] = user_info['bronze'] + user_info['silver'] + user_info['gold']"
   ]
  },
  {
   "cell_type": "code",
   "execution_count": 242,
   "id": "8d442f26",
   "metadata": {},
   "outputs": [
    {
     "data": {
      "text/html": [
       "<div>\n",
       "<style scoped>\n",
       "    .dataframe tbody tr th:only-of-type {\n",
       "        vertical-align: middle;\n",
       "    }\n",
       "\n",
       "    .dataframe tbody tr th {\n",
       "        vertical-align: top;\n",
       "    }\n",
       "\n",
       "    .dataframe thead th {\n",
       "        text-align: right;\n",
       "    }\n",
       "</style>\n",
       "<table border=\"1\" class=\"dataframe\">\n",
       "  <thead>\n",
       "    <tr style=\"text-align: right;\">\n",
       "      <th></th>\n",
       "      <th>account_id</th>\n",
       "      <th>reputation_change_year</th>\n",
       "      <th>reputation_change_quarter</th>\n",
       "      <th>reputation_change_month</th>\n",
       "      <th>reputation_change_week</th>\n",
       "      <th>reputation_change_day</th>\n",
       "      <th>reputation</th>\n",
       "      <th>creation_date</th>\n",
       "      <th>location</th>\n",
       "      <th>bronze</th>\n",
       "      <th>silver</th>\n",
       "      <th>gold</th>\n",
       "      <th>badge_total</th>\n",
       "    </tr>\n",
       "  </thead>\n",
       "  <tbody>\n",
       "    <tr>\n",
       "      <th>0</th>\n",
       "      <td>23959668</td>\n",
       "      <td>21335</td>\n",
       "      <td>5396</td>\n",
       "      <td>370</td>\n",
       "      <td>95</td>\n",
       "      <td>95</td>\n",
       "      <td>21336</td>\n",
       "      <td>1642371776</td>\n",
       "      <td>NaN</td>\n",
       "      <td>36</td>\n",
       "      <td>10</td>\n",
       "      <td>5</td>\n",
       "      <td>51</td>\n",
       "    </tr>\n",
       "    <tr>\n",
       "      <th>1</th>\n",
       "      <td>24301499</td>\n",
       "      <td>16672</td>\n",
       "      <td>6681</td>\n",
       "      <td>3275</td>\n",
       "      <td>0</td>\n",
       "      <td>0</td>\n",
       "      <td>16773</td>\n",
       "      <td>1645196209</td>\n",
       "      <td>Dallas, Texas</td>\n",
       "      <td>41</td>\n",
       "      <td>13</td>\n",
       "      <td>2</td>\n",
       "      <td>56</td>\n",
       "    </tr>\n",
       "    <tr>\n",
       "      <th>2</th>\n",
       "      <td>23821874</td>\n",
       "      <td>10863</td>\n",
       "      <td>2676</td>\n",
       "      <td>60</td>\n",
       "      <td>0</td>\n",
       "      <td>0</td>\n",
       "      <td>10964</td>\n",
       "      <td>1641281645</td>\n",
       "      <td>California</td>\n",
       "      <td>28</td>\n",
       "      <td>11</td>\n",
       "      <td>5</td>\n",
       "      <td>44</td>\n",
       "    </tr>\n",
       "    <tr>\n",
       "      <th>3</th>\n",
       "      <td>23863113</td>\n",
       "      <td>10493</td>\n",
       "      <td>2321</td>\n",
       "      <td>1321</td>\n",
       "      <td>65</td>\n",
       "      <td>65</td>\n",
       "      <td>10494</td>\n",
       "      <td>1641580294</td>\n",
       "      <td>NaN</td>\n",
       "      <td>42</td>\n",
       "      <td>21</td>\n",
       "      <td>3</td>\n",
       "      <td>66</td>\n",
       "    </tr>\n",
       "    <tr>\n",
       "      <th>4</th>\n",
       "      <td>24576560</td>\n",
       "      <td>9295</td>\n",
       "      <td>2425</td>\n",
       "      <td>1290</td>\n",
       "      <td>10</td>\n",
       "      <td>10</td>\n",
       "      <td>9296</td>\n",
       "      <td>1647429576</td>\n",
       "      <td>NaN</td>\n",
       "      <td>29</td>\n",
       "      <td>6</td>\n",
       "      <td>2</td>\n",
       "      <td>37</td>\n",
       "    </tr>\n",
       "  </tbody>\n",
       "</table>\n",
       "</div>"
      ],
      "text/plain": [
       "   account_id  reputation_change_year  reputation_change_quarter  \\\n",
       "0    23959668                   21335                       5396   \n",
       "1    24301499                   16672                       6681   \n",
       "2    23821874                   10863                       2676   \n",
       "3    23863113                   10493                       2321   \n",
       "4    24576560                    9295                       2425   \n",
       "\n",
       "   reputation_change_month  reputation_change_week  reputation_change_day  \\\n",
       "0                      370                      95                     95   \n",
       "1                     3275                       0                      0   \n",
       "2                       60                       0                      0   \n",
       "3                     1321                      65                     65   \n",
       "4                     1290                      10                     10   \n",
       "\n",
       "   reputation  creation_date       location  bronze  silver  gold  badge_total  \n",
       "0       21336     1642371776            NaN      36      10     5           51  \n",
       "1       16773     1645196209  Dallas, Texas      41      13     2           56  \n",
       "2       10964     1641281645     California      28      11     5           44  \n",
       "3       10494     1641580294            NaN      42      21     3           66  \n",
       "4        9296     1647429576            NaN      29       6     2           37  "
      ]
     },
     "execution_count": 242,
     "metadata": {},
     "output_type": "execute_result"
    }
   ],
   "source": [
    "user_info.head()"
   ]
  },
  {
   "cell_type": "code",
   "execution_count": 243,
   "id": "540d3c77",
   "metadata": {},
   "outputs": [],
   "source": [
    "# Calculate tenure based on creation date of users\n",
    "user_info['creation_date'] = [datetime.fromtimestamp(user_info['creation_date'][i]).strftime('%Y-%m-%d') for i in range(user_info.shape[0])]\n",
    "user_info['creation_date'] = pd.to_datetime(user_info['creation_date'])\n",
    "user_info['tenure_day'] = (user_info['creation_date'].max() - user_info['creation_date']).dt.days"
   ]
  },
  {
   "cell_type": "code",
   "execution_count": 276,
   "id": "6db851e6",
   "metadata": {
    "scrolled": true
   },
   "outputs": [
    {
     "data": {
      "text/html": [
       "<div>\n",
       "<style scoped>\n",
       "    .dataframe tbody tr th:only-of-type {\n",
       "        vertical-align: middle;\n",
       "    }\n",
       "\n",
       "    .dataframe tbody tr th {\n",
       "        vertical-align: top;\n",
       "    }\n",
       "\n",
       "    .dataframe thead th {\n",
       "        text-align: right;\n",
       "    }\n",
       "</style>\n",
       "<table border=\"1\" class=\"dataframe\">\n",
       "  <thead>\n",
       "    <tr style=\"text-align: right;\">\n",
       "      <th></th>\n",
       "      <th>account_id</th>\n",
       "      <th>reputation_change_year</th>\n",
       "      <th>reputation_change_quarter</th>\n",
       "      <th>reputation_change_month</th>\n",
       "      <th>reputation_change_week</th>\n",
       "      <th>reputation_change_day</th>\n",
       "      <th>reputation</th>\n",
       "      <th>creation_date</th>\n",
       "      <th>location</th>\n",
       "      <th>bronze</th>\n",
       "      <th>silver</th>\n",
       "      <th>gold</th>\n",
       "      <th>badge_total</th>\n",
       "      <th>tenure_day</th>\n",
       "    </tr>\n",
       "  </thead>\n",
       "  <tbody>\n",
       "    <tr>\n",
       "      <th>0</th>\n",
       "      <td>23959668</td>\n",
       "      <td>21335</td>\n",
       "      <td>5396</td>\n",
       "      <td>370</td>\n",
       "      <td>95</td>\n",
       "      <td>95</td>\n",
       "      <td>21336</td>\n",
       "      <td>2022-01-16</td>\n",
       "      <td>NaN</td>\n",
       "      <td>36</td>\n",
       "      <td>10</td>\n",
       "      <td>5</td>\n",
       "      <td>51</td>\n",
       "      <td>164</td>\n",
       "    </tr>\n",
       "    <tr>\n",
       "      <th>1</th>\n",
       "      <td>24301499</td>\n",
       "      <td>16672</td>\n",
       "      <td>6681</td>\n",
       "      <td>3275</td>\n",
       "      <td>0</td>\n",
       "      <td>0</td>\n",
       "      <td>16773</td>\n",
       "      <td>2022-02-18</td>\n",
       "      <td>Dallas, Texas</td>\n",
       "      <td>41</td>\n",
       "      <td>13</td>\n",
       "      <td>2</td>\n",
       "      <td>56</td>\n",
       "      <td>131</td>\n",
       "    </tr>\n",
       "    <tr>\n",
       "      <th>2</th>\n",
       "      <td>23821874</td>\n",
       "      <td>10863</td>\n",
       "      <td>2676</td>\n",
       "      <td>60</td>\n",
       "      <td>0</td>\n",
       "      <td>0</td>\n",
       "      <td>10964</td>\n",
       "      <td>2022-01-04</td>\n",
       "      <td>California</td>\n",
       "      <td>28</td>\n",
       "      <td>11</td>\n",
       "      <td>5</td>\n",
       "      <td>44</td>\n",
       "      <td>176</td>\n",
       "    </tr>\n",
       "    <tr>\n",
       "      <th>3</th>\n",
       "      <td>23863113</td>\n",
       "      <td>10493</td>\n",
       "      <td>2321</td>\n",
       "      <td>1321</td>\n",
       "      <td>65</td>\n",
       "      <td>65</td>\n",
       "      <td>10494</td>\n",
       "      <td>2022-01-07</td>\n",
       "      <td>NaN</td>\n",
       "      <td>42</td>\n",
       "      <td>21</td>\n",
       "      <td>3</td>\n",
       "      <td>66</td>\n",
       "      <td>173</td>\n",
       "    </tr>\n",
       "    <tr>\n",
       "      <th>4</th>\n",
       "      <td>24576560</td>\n",
       "      <td>9295</td>\n",
       "      <td>2425</td>\n",
       "      <td>1290</td>\n",
       "      <td>10</td>\n",
       "      <td>10</td>\n",
       "      <td>9296</td>\n",
       "      <td>2022-03-16</td>\n",
       "      <td>NaN</td>\n",
       "      <td>29</td>\n",
       "      <td>6</td>\n",
       "      <td>2</td>\n",
       "      <td>37</td>\n",
       "      <td>105</td>\n",
       "    </tr>\n",
       "  </tbody>\n",
       "</table>\n",
       "</div>"
      ],
      "text/plain": [
       "   account_id  reputation_change_year  reputation_change_quarter  \\\n",
       "0    23959668                   21335                       5396   \n",
       "1    24301499                   16672                       6681   \n",
       "2    23821874                   10863                       2676   \n",
       "3    23863113                   10493                       2321   \n",
       "4    24576560                    9295                       2425   \n",
       "\n",
       "   reputation_change_month  reputation_change_week  reputation_change_day  \\\n",
       "0                      370                      95                     95   \n",
       "1                     3275                       0                      0   \n",
       "2                       60                       0                      0   \n",
       "3                     1321                      65                     65   \n",
       "4                     1290                      10                     10   \n",
       "\n",
       "   reputation creation_date       location  bronze  silver  gold  badge_total  \\\n",
       "0       21336    2022-01-16            NaN      36      10     5           51   \n",
       "1       16773    2022-02-18  Dallas, Texas      41      13     2           56   \n",
       "2       10964    2022-01-04     California      28      11     5           44   \n",
       "3       10494    2022-01-07            NaN      42      21     3           66   \n",
       "4        9296    2022-03-16            NaN      29       6     2           37   \n",
       "\n",
       "   tenure_day  \n",
       "0         164  \n",
       "1         131  \n",
       "2         176  \n",
       "3         173  \n",
       "4         105  "
      ]
     },
     "execution_count": 276,
     "metadata": {},
     "output_type": "execute_result"
    }
   ],
   "source": [
    "user_info.head()"
   ]
  },
  {
   "cell_type": "code",
   "execution_count": 245,
   "id": "10478b17",
   "metadata": {},
   "outputs": [
    {
     "data": {
      "image/png": "[encoded data removed]",
      "text/plain": [
       "<Figure size 648x288 with 1 Axes>"
      ]
     },
     "metadata": {
      "needs_background": "light"
     },
     "output_type": "display_data"
    }
   ],
   "source": [
    "# the tenure of users collected in the dataset\n",
    "plt.figure(figsize=(9,4))\n",
    "sns.histplot(x='tenure_day', data=user_info)\n",
    "plt.xlabel('tenure_day')\n",
    "plt.show();"
   ]
  },
  {
   "cell_type": "code",
   "execution_count": 246,
   "id": "a4cb489c",
   "metadata": {},
   "outputs": [
    {
     "data": {
      "image/png": "[encoded data removed]",
      "text/plain": [
       "<Figure size 648x288 with 1 Axes>"
      ]
     },
     "metadata": {
      "needs_background": "light"
     },
     "output_type": "display_data"
    }
   ],
   "source": [
    "plt.figure(figsize=(9,4))\n",
    "sns.histplot(x='reputation', data=user_info)\n",
    "plt.xlabel('Reputation')\n",
    "plt.show();"
   ]
  },
  {
   "cell_type": "code",
   "execution_count": 247,
   "id": "ee28ce5e",
   "metadata": {
    "scrolled": true
   },
   "outputs": [
    {
     "data": {
      "image/png": "[encoded data removed]",
      "text/plain": [
       "<Figure size 648x288 with 1 Axes>"
      ]
     },
     "metadata": {
      "needs_background": "light"
     },
     "output_type": "display_data"
    }
   ],
   "source": [
    "plt.figure(figsize=(9,4))\n",
    "sns.histplot(x='badge_total', data=user_info)\n",
    "plt.xlabel('Reputation')\n",
    "plt.show();"
   ]
  },
  {
   "cell_type": "code",
   "execution_count": 249,
   "id": "a7d8b455",
   "metadata": {
    "scrolled": true
   },
   "outputs": [
    {
     "data": {
      "image/png": "[encoded data removed]",
      "text/plain": [
       "<Figure size 720x360 with 1 Axes>"
      ]
     },
     "metadata": {
      "needs_background": "light"
     },
     "output_type": "display_data"
    }
   ],
   "source": [
    "# total badges vs. tenure_year\n",
    "sns.relplot(x='tenure_day', y='badge_total',data=user_info, kind='scatter',height=5,\n",
    "    aspect=2)\n",
    "plt.xlabel('Tenure_day')\n",
    "plt.ylabel('Total Badges')\n",
    "plt.show();"
   ]
  },
  {
   "cell_type": "code",
   "execution_count": 251,
   "id": "a325b9a6",
   "metadata": {
    "scrolled": true
   },
   "outputs": [
    {
     "data": {
      "image/png": "[encoded data removed]",
      "text/plain": [
       "<Figure size 720x360 with 1 Axes>"
      ]
     },
     "metadata": {
      "needs_background": "light"
     },
     "output_type": "display_data"
    }
   ],
   "source": [
    "# reputation vs. tenure_year\n",
    "sns.relplot(x='tenure_day', y='reputation',data=user_info, kind='scatter',height=5,\n",
    "    aspect=2)\n",
    "plt.xlabel('Tenure_day')\n",
    "plt.ylabel('Reputation')\n",
    "plt.show();"
   ]
  },
  {
   "cell_type": "markdown",
   "id": "7f58c0ab",
   "metadata": {},
   "source": [
    "- there is no clear correlation between reputation and tenure.\n",
    "- there is no clear correlation between total badges and tenure."
   ]
  },
  {
   "cell_type": "code",
   "execution_count": 252,
   "id": "5a61f961",
   "metadata": {
    "scrolled": false
   },
   "outputs": [
    {
     "data": {
      "image/png": "[encoded data removed]",
      "text/plain": [
       "<Figure size 576x288 with 1 Axes>"
      ]
     },
     "metadata": {
      "needs_background": "light"
     },
     "output_type": "display_data"
    }
   ],
   "source": [
    "# total badges vs. reputation\n",
    "sns.relplot(x='reputation', y='badge_total',data=user_info, kind='scatter',height=4,\n",
    "    aspect=2)\n",
    "plt.xlabel('Reputation')\n",
    "plt.ylabel('Total Badges')\n",
    "plt.show();"
   ]
  },
  {
   "cell_type": "markdown",
   "id": "1322a017",
   "metadata": {},
   "source": [
    "- A correlation exist between the total badges and reputation."
   ]
  },
  {
   "cell_type": "code",
   "execution_count": 253,
   "id": "541f4ff7",
   "metadata": {},
   "outputs": [
    {
     "data": {
      "text/plain": [
       "count    2500.000000\n",
       "mean        8.616000\n",
       "std         5.505549\n",
       "min         0.000000\n",
       "25%         5.000000\n",
       "50%         7.000000\n",
       "75%        10.000000\n",
       "max        79.000000\n",
       "Name: badge_total, dtype: float64"
      ]
     },
     "execution_count": 253,
     "metadata": {},
     "output_type": "execute_result"
    }
   ],
   "source": [
    "user_info.badge_total.describe()"
   ]
  },
  {
   "cell_type": "code",
   "execution_count": null,
   "id": "5a612794",
   "metadata": {},
   "outputs": [],
   "source": [
    "one_badge = pd.DataFrame(user_info[user_info['bronze'] == 1]['reputation'].describe())"
   ]
  },
  {
   "cell_type": "code",
   "execution_count": 272,
   "id": "31fa04b0",
   "metadata": {},
   "outputs": [],
   "source": [
    "one_badge = pd.concat([one_badge, pd.DataFrame(user_info[user_info['silver'] == 1]['reputation'].describe())], axis=1)"
   ]
  },
  {
   "cell_type": "code",
   "execution_count": 273,
   "id": "4ce8cdd0",
   "metadata": {},
   "outputs": [],
   "source": [
    "one_badge = pd.concat([one_badge, pd.DataFrame(user_info[user_info['gold'] == 1]['reputation'].describe())], axis=1)"
   ]
  },
  {
   "cell_type": "code",
   "execution_count": 274,
   "id": "32b6dd0e",
   "metadata": {},
   "outputs": [],
   "source": [
    "one_badge = pd.concat([one_badge, pd.DataFrame(user_info[user_info['badge_total'] == 1]['reputation'].describe())], axis=1)"
   ]
  },
  {
   "cell_type": "code",
   "execution_count": 277,
   "id": "844bbe35",
   "metadata": {},
   "outputs": [
    {
     "data": {
      "text/html": [
       "<div>\n",
       "<style scoped>\n",
       "    .dataframe tbody tr th:only-of-type {\n",
       "        vertical-align: middle;\n",
       "    }\n",
       "\n",
       "    .dataframe tbody tr th {\n",
       "        vertical-align: top;\n",
       "    }\n",
       "\n",
       "    .dataframe thead th {\n",
       "        text-align: right;\n",
       "    }\n",
       "</style>\n",
       "<table border=\"1\" class=\"dataframe\">\n",
       "  <thead>\n",
       "    <tr style=\"text-align: right;\">\n",
       "      <th></th>\n",
       "      <th>bronze</th>\n",
       "      <th>silver</th>\n",
       "      <th>gold</th>\n",
       "      <th>any</th>\n",
       "    </tr>\n",
       "  </thead>\n",
       "  <tbody>\n",
       "    <tr>\n",
       "      <th>count</th>\n",
       "      <td>13.000000</td>\n",
       "      <td>680.000000</td>\n",
       "      <td>206.000000</td>\n",
       "      <td>13.000000</td>\n",
       "    </tr>\n",
       "    <tr>\n",
       "      <th>mean</th>\n",
       "      <td>140.461538</td>\n",
       "      <td>305.089706</td>\n",
       "      <td>813.218447</td>\n",
       "      <td>140.461538</td>\n",
       "    </tr>\n",
       "    <tr>\n",
       "      <th>std</th>\n",
       "      <td>18.791023</td>\n",
       "      <td>294.553419</td>\n",
       "      <td>848.149731</td>\n",
       "      <td>18.791023</td>\n",
       "    </tr>\n",
       "    <tr>\n",
       "      <th>min</th>\n",
       "      <td>121.000000</td>\n",
       "      <td>117.000000</td>\n",
       "      <td>121.000000</td>\n",
       "      <td>121.000000</td>\n",
       "    </tr>\n",
       "    <tr>\n",
       "      <th>25%</th>\n",
       "      <td>126.000000</td>\n",
       "      <td>146.000000</td>\n",
       "      <td>241.750000</td>\n",
       "      <td>126.000000</td>\n",
       "    </tr>\n",
       "    <tr>\n",
       "      <th>50%</th>\n",
       "      <td>131.000000</td>\n",
       "      <td>199.000000</td>\n",
       "      <td>486.500000</td>\n",
       "      <td>131.000000</td>\n",
       "    </tr>\n",
       "    <tr>\n",
       "      <th>75%</th>\n",
       "      <td>151.000000</td>\n",
       "      <td>346.000000</td>\n",
       "      <td>1131.000000</td>\n",
       "      <td>151.000000</td>\n",
       "    </tr>\n",
       "    <tr>\n",
       "      <th>max</th>\n",
       "      <td>181.000000</td>\n",
       "      <td>2886.000000</td>\n",
       "      <td>5626.000000</td>\n",
       "      <td>181.000000</td>\n",
       "    </tr>\n",
       "  </tbody>\n",
       "</table>\n",
       "</div>"
      ],
      "text/plain": [
       "           bronze       silver         gold         any\n",
       "count   13.000000   680.000000   206.000000   13.000000\n",
       "mean   140.461538   305.089706   813.218447  140.461538\n",
       "std     18.791023   294.553419   848.149731   18.791023\n",
       "min    121.000000   117.000000   121.000000  121.000000\n",
       "25%    126.000000   146.000000   241.750000  126.000000\n",
       "50%    131.000000   199.000000   486.500000  131.000000\n",
       "75%    151.000000   346.000000  1131.000000  151.000000\n",
       "max    181.000000  2886.000000  5626.000000  181.000000"
      ]
     },
     "execution_count": 277,
     "metadata": {},
     "output_type": "execute_result"
    }
   ],
   "source": [
    "one_badge.columns = ['bronze', 'silver', 'gold', 'any']\n",
    "one_badge"
   ]
  },
  {
   "cell_type": "markdown",
   "id": "2862e019",
   "metadata": {},
   "source": [
    "- The user's first bronze badge requires 131.0 (median) reputation\n",
    "- The user's first silver badge requires 199.0 (median) reputation\n",
    "- The user's first gold badge requires 486.5 (median) reputation"
   ]
  },
  {
   "cell_type": "code",
   "execution_count": 295,
   "id": "5fc01d52",
   "metadata": {},
   "outputs": [
    {
     "data": {
      "image/png": "[encoded data removed]",
      "text/plain": [
       "<Figure size 864x288 with 1 Axes>"
      ]
     },
     "metadata": {
      "needs_background": "light"
     },
     "output_type": "display_data"
    }
   ],
   "source": [
    "plt.figure(figsize=(12,4))\n",
    "plt.boxplot(one_badge)\n",
    "plt.xticks([1,2,3,4], labels=['Bronze', 'Silver', 'Gold', 'Any'])\n",
    "plt.ylabel('Reputation')\n",
    "plt.ylim(0, 1500)\n",
    "plt.show();"
   ]
  },
  {
   "cell_type": "markdown",
   "id": "300e3af3",
   "metadata": {
    "heading_collapsed": true
   },
   "source": [
    "## 3. Veterans<a id='3'></a>"
   ]
  },
  {
   "cell_type": "code",
   "execution_count": 296,
   "id": "019a2f5d",
   "metadata": {
    "hidden": true
   },
   "outputs": [],
   "source": [
    "# extract user information \n",
    "SITE = StackAPI('stackoverflow')\n",
    "# SITE.page_size = 5 # limits to 5 returned results for demo purpose\n",
    "SITE.max_pages = 25\n",
    "\n",
    "# the date is not specified\n",
    "users_veteran = SITE.fetch('users')"
   ]
  },
  {
   "cell_type": "code",
   "execution_count": 297,
   "id": "50ef83d7",
   "metadata": {
    "hidden": true
   },
   "outputs": [
    {
     "name": "stdout",
     "output_type": "stream",
     "text": [
      "<class 'pandas.core.frame.DataFrame'>\n",
      "RangeIndex: 2500 entries, 0 to 2499\n",
      "Data columns (total 20 columns):\n",
      " #   Column                     Non-Null Count  Dtype  \n",
      "---  ------                     --------------  -----  \n",
      " 0   badge_counts               2500 non-null   object \n",
      " 1   account_id                 2500 non-null   int64  \n",
      " 2   is_employee                2500 non-null   bool   \n",
      " 3   last_modified_date         2500 non-null   int64  \n",
      " 4   last_access_date           2500 non-null   int64  \n",
      " 5   reputation_change_year     2500 non-null   int64  \n",
      " 6   reputation_change_quarter  2500 non-null   int64  \n",
      " 7   reputation_change_month    2500 non-null   int64  \n",
      " 8   reputation_change_week     2500 non-null   int64  \n",
      " 9   reputation_change_day      2500 non-null   int64  \n",
      " 10  reputation                 2500 non-null   int64  \n",
      " 11  creation_date              2500 non-null   int64  \n",
      " 12  user_type                  2500 non-null   object \n",
      " 13  user_id                    2500 non-null   int64  \n",
      " 14  accept_rate                1989 non-null   float64\n",
      " 15  location                   2078 non-null   object \n",
      " 16  website_url                2382 non-null   object \n",
      " 17  link                       2500 non-null   object \n",
      " 18  profile_image              2500 non-null   object \n",
      " 19  display_name               2500 non-null   object \n",
      "dtypes: bool(1), float64(1), int64(11), object(7)\n",
      "memory usage: 373.7+ KB\n"
     ]
    }
   ],
   "source": [
    "user_info = pd.DataFrame(users_veteran['items'])\n",
    "user_info.info()"
   ]
  },
  {
   "cell_type": "code",
   "execution_count": 298,
   "id": "702e131a",
   "metadata": {
    "hidden": true
   },
   "outputs": [],
   "source": [
    "# Extract helpful information\n",
    "user_info = user_info.drop(columns=['is_employee', 'last_modified_date', 'last_access_date', 'user_type', 'user_id', 'website_url', 'link', 'profile_image', 'display_name'])"
   ]
  },
  {
   "cell_type": "code",
   "execution_count": 299,
   "id": "ded92e5b",
   "metadata": {
    "hidden": true
   },
   "outputs": [
    {
     "data": {
      "text/html": [
       "<div>\n",
       "<style scoped>\n",
       "    .dataframe tbody tr th:only-of-type {\n",
       "        vertical-align: middle;\n",
       "    }\n",
       "\n",
       "    .dataframe tbody tr th {\n",
       "        vertical-align: top;\n",
       "    }\n",
       "\n",
       "    .dataframe thead th {\n",
       "        text-align: right;\n",
       "    }\n",
       "</style>\n",
       "<table border=\"1\" class=\"dataframe\">\n",
       "  <thead>\n",
       "    <tr style=\"text-align: right;\">\n",
       "      <th></th>\n",
       "      <th>bronze</th>\n",
       "      <th>silver</th>\n",
       "      <th>gold</th>\n",
       "    </tr>\n",
       "  </thead>\n",
       "  <tbody>\n",
       "    <tr>\n",
       "      <th>0</th>\n",
       "      <td>9115</td>\n",
       "      <td>9012</td>\n",
       "      <td>844</td>\n",
       "    </tr>\n",
       "    <tr>\n",
       "      <th>1</th>\n",
       "      <td>757</td>\n",
       "      <td>610</td>\n",
       "      <td>53</td>\n",
       "    </tr>\n",
       "    <tr>\n",
       "      <th>2</th>\n",
       "      <td>4952</td>\n",
       "      <td>4198</td>\n",
       "      <td>502</td>\n",
       "    </tr>\n",
       "    <tr>\n",
       "      <th>3</th>\n",
       "      <td>3529</td>\n",
       "      <td>3579</td>\n",
       "      <td>366</td>\n",
       "    </tr>\n",
       "    <tr>\n",
       "      <th>4</th>\n",
       "      <td>2917</td>\n",
       "      <td>3262</td>\n",
       "      <td>267</td>\n",
       "    </tr>\n",
       "  </tbody>\n",
       "</table>\n",
       "</div>"
      ],
      "text/plain": [
       "  bronze silver gold\n",
       "0   9115   9012  844\n",
       "1    757    610   53\n",
       "2   4952   4198  502\n",
       "3   3529   3579  366\n",
       "4   2917   3262  267"
      ]
     },
     "execution_count": 299,
     "metadata": {},
     "output_type": "execute_result"
    }
   ],
   "source": [
    "# separate badge info\n",
    "badge = user_info['badge_counts']\n",
    "badge_count = pd.DataFrame(columns=['bronze', 'silver', 'gold'])\n",
    "for i in range(len(badge)):\n",
    "    badge_count=pd.concat([badge_count, pd.DataFrame(pd.Series(badge[i])).T], axis=0)\n",
    "badge_count = badge_count.reset_index().drop(columns='index')\n",
    "badge_count.head()"
   ]
  },
  {
   "cell_type": "code",
   "execution_count": 300,
   "id": "7f08d020",
   "metadata": {
    "hidden": true
   },
   "outputs": [],
   "source": [
    "badge_count['bronze'] = pd.to_numeric(badge_count['bronze'])\n",
    "badge_count['silver'] = pd.to_numeric(badge_count['silver'])\n",
    "badge_count['gold'] = pd.to_numeric(badge_count['gold'])"
   ]
  },
  {
   "cell_type": "code",
   "execution_count": 301,
   "id": "61fd3f9d",
   "metadata": {
    "hidden": true
   },
   "outputs": [],
   "source": [
    "# Calculate total badges of users\n",
    "user_info = pd.concat([user_info, badge_count], axis=1).drop(columns='badge_counts')\n",
    "user_info['badge_total'] = user_info['bronze'] + user_info['silver'] + user_info['gold']"
   ]
  },
  {
   "cell_type": "code",
   "execution_count": 302,
   "id": "c54ac1cd",
   "metadata": {
    "hidden": true
   },
   "outputs": [],
   "source": [
    "# Calculate tenure based on creation date of users\n",
    "user_info['creation_date'] = [datetime.fromtimestamp(user_info['creation_date'][i]).strftime('%Y-%m-%d') for i in range(user_info.shape[0])]\n",
    "user_info['creation_date'] = pd.to_datetime(user_info['creation_date'])\n",
    "user_info['tenure_day'] = (user_info['creation_date'].max() - user_info['creation_date']).dt.days"
   ]
  },
  {
   "cell_type": "code",
   "execution_count": 303,
   "id": "1b17ea6f",
   "metadata": {
    "hidden": true,
    "scrolled": true
   },
   "outputs": [
    {
     "data": {
      "text/html": [
       "<div>\n",
       "<style scoped>\n",
       "    .dataframe tbody tr th:only-of-type {\n",
       "        vertical-align: middle;\n",
       "    }\n",
       "\n",
       "    .dataframe tbody tr th {\n",
       "        vertical-align: top;\n",
       "    }\n",
       "\n",
       "    .dataframe thead th {\n",
       "        text-align: right;\n",
       "    }\n",
       "</style>\n",
       "<table border=\"1\" class=\"dataframe\">\n",
       "  <thead>\n",
       "    <tr style=\"text-align: right;\">\n",
       "      <th></th>\n",
       "      <th>account_id</th>\n",
       "      <th>reputation_change_year</th>\n",
       "      <th>reputation_change_quarter</th>\n",
       "      <th>reputation_change_month</th>\n",
       "      <th>reputation_change_week</th>\n",
       "      <th>reputation_change_day</th>\n",
       "      <th>reputation</th>\n",
       "      <th>creation_date</th>\n",
       "      <th>accept_rate</th>\n",
       "      <th>location</th>\n",
       "      <th>bronze</th>\n",
       "      <th>silver</th>\n",
       "      <th>gold</th>\n",
       "      <th>badge_total</th>\n",
       "      <th>tenure_day</th>\n",
       "    </tr>\n",
       "  </thead>\n",
       "  <tbody>\n",
       "    <tr>\n",
       "      <th>0</th>\n",
       "      <td>11683</td>\n",
       "      <td>66691</td>\n",
       "      <td>13121</td>\n",
       "      <td>705</td>\n",
       "      <td>130</td>\n",
       "      <td>130</td>\n",
       "      <td>1371975</td>\n",
       "      <td>2008-09-26</td>\n",
       "      <td>86.0</td>\n",
       "      <td>Reading, United Kingdom</td>\n",
       "      <td>9115</td>\n",
       "      <td>9012</td>\n",
       "      <td>844</td>\n",
       "      <td>18971</td>\n",
       "      <td>4659</td>\n",
       "    </tr>\n",
       "    <tr>\n",
       "      <th>1</th>\n",
       "      <td>1165580</td>\n",
       "      <td>37101</td>\n",
       "      <td>6936</td>\n",
       "      <td>3653</td>\n",
       "      <td>50</td>\n",
       "      <td>50</td>\n",
       "      <td>1218868</td>\n",
       "      <td>2012-01-11</td>\n",
       "      <td>NaN</td>\n",
       "      <td>New York, United States</td>\n",
       "      <td>757</td>\n",
       "      <td>610</td>\n",
       "      <td>53</td>\n",
       "      <td>1420</td>\n",
       "      <td>3457</td>\n",
       "    </tr>\n",
       "    <tr>\n",
       "      <th>2</th>\n",
       "      <td>4243</td>\n",
       "      <td>78729</td>\n",
       "      <td>14742</td>\n",
       "      <td>920</td>\n",
       "      <td>215</td>\n",
       "      <td>215</td>\n",
       "      <td>1173022</td>\n",
       "      <td>2008-09-13</td>\n",
       "      <td>100.0</td>\n",
       "      <td>France</td>\n",
       "      <td>4952</td>\n",
       "      <td>4198</td>\n",
       "      <td>502</td>\n",
       "      <td>9652</td>\n",
       "      <td>4672</td>\n",
       "    </tr>\n",
       "    <tr>\n",
       "      <th>3</th>\n",
       "      <td>52822</td>\n",
       "      <td>38416</td>\n",
       "      <td>6325</td>\n",
       "      <td>271</td>\n",
       "      <td>40</td>\n",
       "      <td>40</td>\n",
       "      <td>1060587</td>\n",
       "      <td>2009-08-17</td>\n",
       "      <td>93.0</td>\n",
       "      <td>Willemstad, Cura&amp;#231;ao</td>\n",
       "      <td>3529</td>\n",
       "      <td>3579</td>\n",
       "      <td>366</td>\n",
       "      <td>7474</td>\n",
       "      <td>4334</td>\n",
       "    </tr>\n",
       "    <tr>\n",
       "      <th>4</th>\n",
       "      <td>14332</td>\n",
       "      <td>25354</td>\n",
       "      <td>4291</td>\n",
       "      <td>240</td>\n",
       "      <td>70</td>\n",
       "      <td>70</td>\n",
       "      <td>1008158</td>\n",
       "      <td>2008-10-19</td>\n",
       "      <td>86.0</td>\n",
       "      <td>Sofia, Bulgaria</td>\n",
       "      <td>2917</td>\n",
       "      <td>3262</td>\n",
       "      <td>267</td>\n",
       "      <td>6446</td>\n",
       "      <td>4636</td>\n",
       "    </tr>\n",
       "  </tbody>\n",
       "</table>\n",
       "</div>"
      ],
      "text/plain": [
       "   account_id  reputation_change_year  reputation_change_quarter  \\\n",
       "0       11683                   66691                      13121   \n",
       "1     1165580                   37101                       6936   \n",
       "2        4243                   78729                      14742   \n",
       "3       52822                   38416                       6325   \n",
       "4       14332                   25354                       4291   \n",
       "\n",
       "   reputation_change_month  reputation_change_week  reputation_change_day  \\\n",
       "0                      705                     130                    130   \n",
       "1                     3653                      50                     50   \n",
       "2                      920                     215                    215   \n",
       "3                      271                      40                     40   \n",
       "4                      240                      70                     70   \n",
       "\n",
       "   reputation creation_date  accept_rate                  location  bronze  \\\n",
       "0     1371975    2008-09-26         86.0   Reading, United Kingdom    9115   \n",
       "1     1218868    2012-01-11          NaN   New York, United States     757   \n",
       "2     1173022    2008-09-13        100.0                    France    4952   \n",
       "3     1060587    2009-08-17         93.0  Willemstad, Cura&#231;ao    3529   \n",
       "4     1008158    2008-10-19         86.0           Sofia, Bulgaria    2917   \n",
       "\n",
       "   silver  gold  badge_total  tenure_day  \n",
       "0    9012   844        18971        4659  \n",
       "1     610    53         1420        3457  \n",
       "2    4198   502         9652        4672  \n",
       "3    3579   366         7474        4334  \n",
       "4    3262   267         6446        4636  "
      ]
     },
     "execution_count": 303,
     "metadata": {},
     "output_type": "execute_result"
    }
   ],
   "source": [
    "user_info.head()"
   ]
  },
  {
   "cell_type": "code",
   "execution_count": 304,
   "id": "bcb64b78",
   "metadata": {
    "hidden": true
   },
   "outputs": [
    {
     "data": {
      "image/png": "[encoded data removed]",
      "text/plain": [
       "<Figure size 648x288 with 1 Axes>"
      ]
     },
     "metadata": {
      "needs_background": "light"
     },
     "output_type": "display_data"
    }
   ],
   "source": [
    "# the tenure of users collected in the dataset\n",
    "plt.figure(figsize=(9,4))\n",
    "sns.histplot(x='tenure_day', data=user_info)\n",
    "plt.xlabel('tenure_day')\n",
    "plt.show();"
   ]
  },
  {
   "cell_type": "code",
   "execution_count": 305,
   "id": "98943341",
   "metadata": {
    "hidden": true
   },
   "outputs": [
    {
     "data": {
      "image/png": "[encoded data removed]",
      "text/plain": [
       "<Figure size 648x288 with 1 Axes>"
      ]
     },
     "metadata": {
      "needs_background": "light"
     },
     "output_type": "display_data"
    }
   ],
   "source": [
    "plt.figure(figsize=(9,4))\n",
    "sns.histplot(x='reputation', data=user_info)\n",
    "plt.xlabel('Reputation')\n",
    "plt.show();"
   ]
  },
  {
   "cell_type": "code",
   "execution_count": 306,
   "id": "78112d8c",
   "metadata": {
    "hidden": true,
    "scrolled": true
   },
   "outputs": [
    {
     "data": {
      "image/png": "[encoded data removed]",
      "text/plain": [
       "<Figure size 648x288 with 1 Axes>"
      ]
     },
     "metadata": {
      "needs_background": "light"
     },
     "output_type": "display_data"
    }
   ],
   "source": [
    "plt.figure(figsize=(9,4))\n",
    "sns.histplot(x='badge_total', data=user_info)\n",
    "plt.xlabel('Reputation')\n",
    "plt.show();"
   ]
  },
  {
   "cell_type": "code",
   "execution_count": 307,
   "id": "66cc638f",
   "metadata": {
    "hidden": true,
    "scrolled": true
   },
   "outputs": [
    {
     "data": {
      "image/png": "[encoded data removed]",
      "text/plain": [
       "<Figure size 720x360 with 1 Axes>"
      ]
     },
     "metadata": {
      "needs_background": "light"
     },
     "output_type": "display_data"
    }
   ],
   "source": [
    "# total badges vs. tenure_year\n",
    "sns.relplot(x='tenure_day', y='badge_total',data=user_info, kind='scatter',height=5,\n",
    "    aspect=2)\n",
    "plt.xlabel('Tenure_day')\n",
    "plt.ylabel('Total Badges')\n",
    "plt.show();"
   ]
  },
  {
   "cell_type": "code",
   "execution_count": 308,
   "id": "464eb0f1",
   "metadata": {
    "hidden": true,
    "scrolled": true
   },
   "outputs": [
    {
     "data": {
      "image/png": "[encoded data removed]",
      "text/plain": [
       "<Figure size 720x360 with 1 Axes>"
      ]
     },
     "metadata": {
      "needs_background": "light"
     },
     "output_type": "display_data"
    }
   ],
   "source": [
    "# reputation vs. tenure_year\n",
    "sns.relplot(x='tenure_day', y='reputation',data=user_info, kind='scatter',height=5,\n",
    "    aspect=2)\n",
    "plt.xlabel('Tenure_day')\n",
    "plt.ylabel('Reputation')\n",
    "plt.show();"
   ]
  },
  {
   "cell_type": "markdown",
   "id": "a59dc187",
   "metadata": {
    "hidden": true
   },
   "source": [
    "- there is no clear correlation between reputation and tenure.\n",
    "- there is no clear correlation between total badges and tenure."
   ]
  },
  {
   "cell_type": "code",
   "execution_count": 309,
   "id": "cbbefed2",
   "metadata": {
    "hidden": true,
    "scrolled": false
   },
   "outputs": [
    {
     "data": {
      "image/png": "[encoded data removed]",
      "text/plain": [
       "<Figure size 576x288 with 1 Axes>"
      ]
     },
     "metadata": {
      "needs_background": "light"
     },
     "output_type": "display_data"
    }
   ],
   "source": [
    "# total badges vs. reputation\n",
    "sns.relplot(x='reputation', y='badge_total',data=user_info, kind='scatter',height=4,\n",
    "    aspect=2)\n",
    "plt.xlabel('Reputation')\n",
    "plt.ylabel('Total Badges')\n",
    "plt.show();"
   ]
  },
  {
   "cell_type": "markdown",
   "id": "d1c05bf6",
   "metadata": {
    "hidden": true
   },
   "source": [
    "- A strong correlation exist between the total badges and reputation."
   ]
  },
  {
   "cell_type": "code",
   "execution_count": 316,
   "id": "6e5de6f3",
   "metadata": {
    "hidden": true,
    "scrolled": false
   },
   "outputs": [
    {
     "data": {
      "image/png": "[encoded data removed]",
      "text/plain": [
       "<Figure size 576x288 with 1 Axes>"
      ]
     },
     "metadata": {
      "needs_background": "light"
     },
     "output_type": "display_data"
    }
   ],
   "source": [
    "# total badges vs. reputation\n",
    "sns.relplot(x='reputation', y='bronze',data=user_info, kind='scatter',height=4,\n",
    "    aspect=2)\n",
    "plt.xlabel('Reputation')\n",
    "plt.ylabel('Total Badges')\n",
    "plt.show();"
   ]
  },
  {
   "cell_type": "code",
   "execution_count": null,
   "id": "c7a9ee7f",
   "metadata": {
    "hidden": true
   },
   "outputs": [],
   "source": []
  }
 ],
 "metadata": {
  "kernelspec": {
   "display_name": "Python 3 (ipykernel)",
   "language": "python",
   "name": "python3"
  },
  "language_info": {
   "codemirror_mode": {
    "name": "ipython",
    "version": 3
   },
   "file_extension": ".py",
   "mimetype": "text/x-python",
   "name": "python",
   "nbconvert_exporter": "python",
   "pygments_lexer": "ipython3",
   "version": "3.10.6"
  }
 },
 "nbformat": 4,
 "nbformat_minor": 5
}
